{
 "cells": [
  {
   "cell_type": "markdown",
   "id": "a08988bc",
   "metadata": {},
   "source": [
    "## retriever 만들기"
   ]
  },
  {
   "cell_type": "code",
   "execution_count": null,
   "id": "99fc97ea",
   "metadata": {},
   "outputs": [],
   "source": [
    "from langchain_community.document_loaders import TextLoader\n",
    "from langchain_openai.embeddings import OpenAIEmbeddings\n",
    "from langchain_chroma import Chroma\n",
    "from dotenv import load_dotenv\n",
    "import os\n",
    "\n",
    "load_dotenv(dotenv_path='../.env', override=True)\n",
    "\n",
    "apikey = os.getenv(\"OPENAI_API_KEY\")\n"
   ]
  },
  {
   "cell_type": "markdown",
   "id": "5fb084f1",
   "metadata": {},
   "source": [
    "#### 문서 로더\n",
    "\n",
    "파일\n",
    "* TextLoader\n",
    "| 일반 텍스트 파일(.txt) 읽기\n",
    "* PDFPlumberLoader / PyPDFLoader\n",
    "| PDF 문서 불러오기\n",
    "* UnstructuredFileLoader\n",
    "| 다양한 파일 포맷 (Word, PPT, PDF 등)을 구조 없이 불러오기\n",
    "* CSVLoader\n",
    "| CSV 파일의 각 행을 문서로 변환\n",
    "* JSONLoader\n",
    "| JSON 파일을 읽고 문서로 구성\n",
    "\n",
    "\n",
    "웹/URL\n",
    "* WebBaseLoader\n",
    "| 일반 웹 페이지 크롤링\n",
    "* SitemapLoader\n",
    "| 사이트맵 기반으로 다수의 웹 페이지 로딩\n",
    "\n",
    "\n",
    "문서 플랫폼\n",
    "* NotionDBLoader\n",
    "| Notion의 DB에서 문서 불러오기 (API 필요)\n",
    "* ConfluenceLoader\n",
    "| Atlassian Confluence 문서 불러오기\n",
    "\n",
    "\n",
    "클라우드 문서\n",
    "* GoogleDriveLoader\n",
    "| 구글 드라이브에서 문서 불러오기\n",
    "* OneDriveLoader\n",
    "| 마이크로소프트 OneDrive에서 불러오기\n",
    "\n",
    "\n",
    "코드/로컬\n",
    "* GitLoader\n",
    "| Git 저장소 내 파일 불러오기\n",
    "* DirectoryLoader\n",
    "| 특정 폴더 내 모든 문서 일괄 불러오기\n",
    "\n",
    "\n",
    "메일\n",
    "* OutlookMessageLoader\n",
    "| Outlook .msg 파일 불러오기\n",
    "* EmailLoader\n",
    "| EML 또는 MIME 형식 이메일 로드\n",
    "\n",
    "\n",
    "이미지/스캔\n",
    "* UnstructuredImageLoader\n",
    "| 이미지에서 텍스트 추출 (OCR 기반)\n",
    "* UnstructuredPDFLoader\n",
    "| PDF 전처리 고급"
   ]
  },
  {
   "cell_type": "markdown",
   "id": "6f6f91b4",
   "metadata": {},
   "source": [
    "#### 새로나온 텍스트 스플릿 기능 (추후 적용 해보기)\n",
    "\n",
    "* 유사도 기반 스플릿\n",
    "* https://python.langchain.com/api_reference/experimental/text_splitter.html\n",
    "\n"
   ]
  },
  {
   "cell_type": "code",
   "execution_count": 53,
   "id": "474320af",
   "metadata": {},
   "outputs": [
    {
     "data": {
      "text/plain": [
       "10"
      ]
     },
     "execution_count": 53,
     "metadata": {},
     "output_type": "execute_result"
    }
   ],
   "source": [
    "# 문서 스플릿\n",
    "\n",
    "from langchain.text_splitter import RecursiveCharacterTextSplitter\n",
    "\n",
    "text_splitter = RecursiveCharacterTextSplitter(chunk_size=500, \n",
    "                                            chunk_overlap=100)\n",
    "\n",
    "# 텍스트 파일을 load -> List[Document] 형태로 변환\n",
    "loader1 = TextLoader(\"..\\\\ref\\\\docs\\\\law_test.txt\")\n",
    "# 문서 분할\n",
    "split_doc1 = loader1.load_and_split(text_splitter)\n",
    "\n",
    "# 문서 개수 확인\n",
    "len(split_doc1)"
   ]
  },
  {
   "cell_type": "code",
   "execution_count": 71,
   "id": "2f5af540",
   "metadata": {},
   "outputs": [],
   "source": [
    "# 임베딩\n",
    "\n",
    "import getpass\n",
    "import os\n",
    "\n",
    "if not os.environ.get(\"OPENAI_API_KEY\"):\n",
    "  os.environ[\"OPENAI_API_KEY\"] = getpass.getpass(\"Enter API key for OpenAI: \")\n",
    "\n",
    "from langchain_openai import OpenAIEmbeddings\n",
    "\n",
    "embeddings = OpenAIEmbeddings(model=\"text-embedding-3-large\")\n",
    "\n",
    "# 임시 DB 생성\n",
    "# db = Chroma.from_documents(\n",
    "#     documents=split_doc1, embedding=OpenAIEmbeddings(), \n",
    "#     collection_name=\"my_db\"\n",
    "# )\n",
    "\n",
    "# 저장할 경로 지정\n",
    "DB_PATH = \".\\\\chroma_db\"\n",
    "\n",
    "# # 문서를 디스크에 저장. 저장시 persist_directory에 저장할 경로를 지정.\n",
    "# persist_db = Chroma.from_documents(\n",
    "#     documents=split_doc1,\n",
    "#     embedding=embeddings, \n",
    "#     persist_directory=DB_PATH, \n",
    "#     collection_name=\"my_db2\"\n",
    "# )\n",
    "\n",
    "#디스크에서 문서를 로드.\n",
    "db = Chroma(\n",
    "    persist_directory=DB_PATH,\n",
    "    embedding_function=embeddings,\n",
    "    collection_name=\"my_db2\",\n",
    ")"
   ]
  },
  {
   "cell_type": "code",
   "execution_count": 10,
   "id": "df92eb6b",
   "metadata": {},
   "outputs": [
    {
     "data": {
      "text/plain": [
       "{'ids': ['2bf19298-80a4-4289-a4f1-44bfa430cd8e',\n",
       "  'da9243fb-957f-46aa-8e4d-8267c4bec91a',\n",
       "  '179a459d-6ba6-47d4-a1c4-40b7c05a85fa',\n",
       "  '1202f34f-2c31-40ee-bd50-f5e009da3126',\n",
       "  '0f0cb2d1-fa41-47f0-8754-f94043847d55',\n",
       "  'f749d566-25d4-4561-8100-102c74225744',\n",
       "  '9ca95306-8b48-4005-a07f-497a8e6b80bb',\n",
       "  '48337bd7-8b37-4b5e-9fb0-280f4006835b',\n",
       "  '1ae6bf9a-8d5a-4f02-b242-c623c49ddd1b',\n",
       "  '1207b315-42d1-4d5b-8c92-07b894ff00ac'],\n",
       " 'embeddings': None,\n",
       " 'documents': ['소득세법\\n[시행 2025. 7. 1.] [법률 제20615호, 2024. 12. 31., 일부개정]\\n\\n기획재정부(재산세제과(양도소득세)), 044-215-4312\\n기획재정부(소득세제과(근로소득)), 044-215-4216\\n기획재정부(금융세제과(이자소득, 배당소득)), 044-215-4233\\n기획재정부(소득세제과(사업소득, 기타소득)), 044-215-4217\\n\\n제1장 총칙 <개정 2009. 12. 31.>\\n\\n1조(목적)\\n이 법은 개인의 소득에 대하여 소득의 성격과 납세자의 부담능력 등에 따라 적정하게 과세함으로써 조세부담의 형평을 도모하고 재정수입의 원활한 조달에 이바지함을 목적으로 한다.\\n[본조신설 2009. 12. 31.]\\n[종전 제1조는 제2조로 이동 <2009. 12. 31.>]',\n",
       "  '1조의2(정의)\\n1항 이 법에서 사용하는 용어의 뜻은 다음과 같다. <개정 2010. 12. 27., 2014. 12. 23., 2018. 12. 31.>\\n1호 “거주자”란 국내에 주소를 두거나 183일 이상의 거소(居所)를 둔 개인을 말한다.\\n2호 “비거주자”란 거주자가 아닌 개인을 말한다.\\n3호 “내국법인”이란 「법인세법」 제2조제1호에 따른 내국법인을 말한다.\\n4호 “외국법인”이란 「법인세법」 제2조제3호에 따른 외국법인을 말한다.\\n5호 “사업자”란 사업소득이 있는 거주자를 말한다.\\n2항 제1항에 따른 주소ㆍ거소와 거주자ㆍ비거주자의 구분은 대통령령으로 정한다.\\n[본조신설 2009. 12. 31.]',\n",
       "  '2조(납세의무)\\n1항 다음 각 호의 어느 하나에 해당하는 개인은 이 법에 따라 각자의 소득에 대한 소득세를 납부할 의무를 진다.\\n1호 거주자\\n2호 비거주자로서 국내원천소득(국내에서 발생한 소득)이 있는 개인\\n2항 다음 각 호의 어느 하나에 해당하는 자는 이 법에 따라 원천징수한 소득세를 납부할 의무를 진다.\\n1호 거주자\\n2호 비거주자\\n3호 내국법인\\n4호 외국법인의 국내지점 또는 국내영업소\\n5호 그 밖에 이 법에서 정하는 원천징수의무자\\n3항 「국세기본법」 제13조제1항에 따른 법인 아닌 단체 중 같은 조 제4항에 따른 법인으로 보는 단체 외의 법인 아닌 단체는 국내에 주사무소 또는 사업의 실질적 관리장소를 둔 경우에는 1거주자로, 그 밖의 경우에는 1비거주자로 본다.\\n단, 다음 각 호에 해당하는 경우에는 소득구분에 따라 해당 단체의 각 구성원별로 이 법 또는 「법인세법」에 따라 소득세 또는 법인세를 납부할 의무를 진다.',\n",
       "  '단, 다음 각 호에 해당하는 경우에는 소득구분에 따라 해당 단체의 각 구성원별로 이 법 또는 「법인세법」에 따라 소득세 또는 법인세를 납부할 의무를 진다.\\n1호 구성원 간 이익의 분배비율이 정하여져 있고 해당 구성원별로 이익의 분배비율이 확인되는 경우\\n2호 구성원 간 이익의 분배비율이 정하여져 있지 아니하나 사실상 구성원별로 이익이 분배되는 것으로 확인되는 경우\\n4항 3항에도 불구하고 해당 단체의 전체 구성원 중 일부 구성원만 분배비율이 확인되는 경우는 다음 각 호의 구분에 따라 납세의무를 진다.\\n1호 확인되는 부분: 해당 구성원별로 소득세 또는 법인세에 대한 납세의무 부담\\n2호 확인되지 아니하는 부분: 해당 단체를 1거주자 또는 1비거주자로 보아 소득세의 납세의무 부담\\n5항 3항 및 4항에도 불구하고 법인으로 보는 단체 외의 법인 아닌 단체에 해당하는 국외투자기구를 국내원천소득의 실질귀속자로 보는 경우 1비거주자로 보아 납세의무를 진다.\\n[전문개정 2009. 12. 31.]',\n",
       "  '[전문개정 2009. 12. 31.]\\n[제1조에서 이동, 종전 제2조는 제2조의2로 이동 <2009. 12. 31.>]',\n",
       "  '2조의2(납세의무의 범위)\\n1항 제43조에 따라 공동사업에 관한 소득금액을 계산하는 경우 공동사업자별로 납세의무를 진다. 다만, 주된 공동사업자에게 합산과세되는 경우 그 합산과세되는 소득금액에 대해서는 주된 공동사업자의 특수관계인은 손익분배비율 금액만큼 주된 공동사업자와 연대하여 납세의무를 진다.\\n2항 제44조에 따라 피상속인의 소득금액에 대해 과세하는 경우 상속인이 납세의무를 진다.\\n3항 제101조제2항에 따라 증여자가 자산을 직접 양도한 것으로 보는 경우 증여자와 증여받은 자가 연대하여 납세의무를 진다.\\n4항 제127조에 따라 원천징수되는 소득 등 합산되지 않는 소득이 있는 자는 그 소득에 대해 납세의무를 진다.\\n5항 공동으로 소유한 자산에 대한 양도소득금액을 계산하는 경우 각 거주자가 각각 납세의무를 진다.\\n[전문개정 2009. 12. 31.]\\n[제2조에서 이동 <2009. 12. 31.>]',\n",
       "  '2조의3(신탁재산 귀속소득에 대한 납세의무의 범위)\\n1항 신탁재산에 귀속되는 소득은 수익자(수익자 사망 시 상속인)에게 귀속되는 것으로 본다.\\n2항 위탁자가 신탁재산을 실질적으로 통제하는 신탁의 경우 그 소득은 위탁자에게 귀속된다.\\n[본조신설 2020. 12. 29.]\\n\\n3조(과세소득의 범위)\\n1항 거주자에게는 이 법에서 규정하는 모든 소득에 대해 과세한다. 단, 일정한 외국인 거주자는 국외소득 중 국내에서 지급되거나 송금된 소득에만 과세한다.\\n2항 비거주자에게는 국내원천소득만 과세한다.\\n3항 일정한 동업자에게는 배분·분배된 초과 소득에 대해 과세한다.\\n[전문개정 2009. 12. 31.]',\n",
       "  '4조(소득의 구분)\\n1항 거주자의 소득은 아래 각 호와 같이 구분한다.\\n1호 종합소득: 법에 따라 과세되는 모든 소득에서 2호, 3호 소득을 제외한 것.\\n가목 이자소득\\n나목 배당소득\\n다목 사업소득\\n라목 근로소득\\n마목 연금소득\\n바목 기타소득\\n2호 퇴직소득\\n2호의2 삭제\\n3호 양도소득\\n2항 신탁의 이익은 신탁 유형별로 각 호별로 구분한다.\\n1호 법인세법상 수탁자가 법인세를 납부하는 신탁\\n2호 투자신탁\\n3호 집합투자업겸영보험회사의 특별계정\\n4호 수익증권이 발행된 신탁\\n3항 비거주자 소득은 제119조에 따라 구분한다.\\n[전문개정 2009. 12. 31.]\\n\\n5조(과세기간)\\n1항 과세기간은 1월 1일부터 12월 31일까지 1년으로 한다.\\n2항 거주자 사망 시 과세기간은 1월 1일부터 사망일 까지.\\n3항 거주자가 출국해 비거주자가 되는 경우 1월 1일부터 출국일까지를 과세기간으로 한다.\\n[전문개정 2009. 12. 31.]',\n",
       "  '6조(납세지)\\n1항 거주자의 납세지는 주소지. 주소 없으면 거소지.\\n2항 비거주자의 납세지는 국내사업장 소재지. 사업장 여러 개 있으면 주된 사업장의 소재지. 사업장 없으면 소득 발생지.\\n3항 납세지 불분명하면 대통령령으로 결정.\\n[전문개정 2009. 12. 31.]\\n\\n7조(원천징수 등의 경우의 납세지)\\n1항 원천징수 소득세의 납세지는 아래 각 호에 따른다.\\n1호 원천징수 하는 거주자: 주된 사업장 등\\n2호 원천징수 하는 비거주자: 주된 국내사업장 등\\n3호 법인: 본점 또는 주사무소 소재지\\n4호 법인의 독립채산 사업장: 그 사업장 소재지\\n5호 그 밖에: 대통령령으로 정하는 장소\\n2항 납세조합이 징수하는 소득세도 소재지로 한다.\\n[전문개정 2009. 12. 31.]',\n",
       "  '8조(상속 등의 경우의 납세지)\\n1항 상속인 등이 신고한 장소\\n2항 비거주자가 납세관리인 두면 신고장소\\n3항 신고 있으면 신고한 장소\\n4항 신고 없으면 주소·소재지 등\\n5항 국내 주소 없는 공무원 등은 대통령령으로 정하는 장소\\n[전문개정 2009. 12. 31.]\\n\\n9조(납세지의 지정)\\n1항 다음 각 호에 해당하면 국세청장이 별도 지정 가능\\n1호 사업소득자 신청\\n2호 소득 상황상 부적합 또는 불편 인정 시\\n2항 부적합하다고 판단되면 통지\\n3항 지정 사유 소멸 시 취소\\n4항 취소 전 신고, 납부 등 효력 유지\\n[전문개정 2009. 12. 31.]\\n\\n10조(납세지의 변경신고)\\n납세지 변경 시 15일 내 신고\\n[전문개정 2009. 12. 31.]\\n\\n11조(과세 관할)\\n관할 세무서장 또는 지방국세청장이 과세\\n[전문개정 2009. 12. 31.]'],\n",
       " 'uris': None,\n",
       " 'included': ['metadatas', 'documents'],\n",
       " 'data': None,\n",
       " 'metadatas': [{'source': '..\\\\ref\\\\docs\\\\law_test.txt'},\n",
       "  {'source': '..\\\\ref\\\\docs\\\\law_test.txt'},\n",
       "  {'source': '..\\\\ref\\\\docs\\\\law_test.txt'},\n",
       "  {'source': '..\\\\ref\\\\docs\\\\law_test.txt'},\n",
       "  {'source': '..\\\\ref\\\\docs\\\\law_test.txt'},\n",
       "  {'source': '..\\\\ref\\\\docs\\\\law_test.txt'},\n",
       "  {'source': '..\\\\ref\\\\docs\\\\law_test.txt'},\n",
       "  {'source': '..\\\\ref\\\\docs\\\\law_test.txt'},\n",
       "  {'source': '..\\\\ref\\\\docs\\\\law_test.txt'},\n",
       "  {'source': '..\\\\ref\\\\docs\\\\law_test.txt'}]}"
      ]
     },
     "execution_count": 10,
     "metadata": {},
     "output_type": "execute_result"
    }
   ],
   "source": [
    "# 저장된 데이터 확인\n",
    "persist_db.get()"
   ]
  },
  {
   "cell_type": "markdown",
   "id": "2fabc961",
   "metadata": {},
   "source": [
    "#### 벡터 DB 수정하기"
   ]
  },
  {
   "cell_type": "code",
   "execution_count": null,
   "id": "1d26d0c1",
   "metadata": {},
   "outputs": [],
   "source": [
    "# 문서 추가하기\n",
    "from langchain_core.documents import Document\n",
    "\n",
    "# page_content, metadata, id 지정\n",
    "db.add_documents(\n",
    "    [\n",
    "        Document(\n",
    "            page_content=\"안녕하세요! 이번엔 도큐먼트를 새로 추가해 볼께요\",\n",
    "            metadata={\"source\": \"mydata.txt\"},\n",
    "            id=\"1\",\n",
    "        )\n",
    "    ]\n",
    ")"
   ]
  },
  {
   "cell_type": "code",
   "execution_count": null,
   "id": "69b71409",
   "metadata": {},
   "outputs": [],
   "source": [
    "# 문서 삭제하기\n",
    "# id 1 삭제\n",
    "db.delete(ids=[\"1\"])"
   ]
  },
  {
   "cell_type": "markdown",
   "id": "179d6996",
   "metadata": {},
   "source": [
    "#### 검색기 / Retrival 구현\n",
    "\n",
    "* 관련 문서는 다음을 참조\n",
    "  * https://python.langchain.com/docs/integrations/vectorstores/chroma/#initialization  "
   ]
  },
  {
   "cell_type": "code",
   "execution_count": 75,
   "id": "147286c3",
   "metadata": {},
   "outputs": [],
   "source": [
    "# mmr 알고리즘 기반 retriever 만들기\n",
    "mmr_rt = db.as_retriever(\n",
    "  search_type=\"mmr\",\n",
    "  search_kwargs={\"k\": 5, \"lambda_mult\": 0.25, \"fetch_k\": 10}\n",
    ")"
   ]
  },
  {
   "cell_type": "code",
   "execution_count": 45,
   "id": "8e7692c7",
   "metadata": {},
   "outputs": [
    {
     "name": "stdout",
     "output_type": "stream",
     "text": [
      "2조의3(신탁재산 귀속소득에 대한 납세의무의 범위)\n",
      "1항 신탁재산에 귀속되는 소득은 수익자(수익자 사망 시 상속인)에게 귀속되는 것으로 본다.\n",
      "2항 위탁자가 신탁재산을 실질적으로 통제하는 신탁의 경우 그 소득은 위탁자에게 귀속된다.\n",
      "[본조신설 2020. 12. 29.]\n",
      "\n",
      "3조(과세소득의 범위)\n",
      "1항 거주자에게는 이 법에서 규정하는 모든 소득에 대해 과세한다. 단, 일정한 외국인 거주자는 국외소득 중 국내에서 지급되거나 송금된 소득에만 과세한다.\n",
      "2항 비거주자에게는 국내원천소득만 과세한다.\n",
      "3항 일정한 동업자에게는 배분·분배된 초과 소득에 대해 과세한다.\n",
      "[전문개정 2009. 12. 31.]\n",
      "-------------------------------\n"
     ]
    }
   ],
   "source": [
    "for i in mmr_rt.invoke(\"주식 투자 세금에 대해 알려줘\"):\n",
    "    print(i.page_content)\n",
    "    print('-------------------------------')"
   ]
  },
  {
   "cell_type": "code",
   "execution_count": 51,
   "id": "ebc560da",
   "metadata": {},
   "outputs": [
    {
     "name": "stdout",
     "output_type": "stream",
     "text": [
      "소득세법\n",
      "[시행 2025. 7. 1.] [법률 제20615호, 2024. 12. 31., 일부개정]\n",
      "\n",
      "기획재정부(재산세제과(양도소득세)), 044-215-4312\n",
      "기획재정부(소득세제과(근로소득)), 044-215-4216\n",
      "기획재정부(금융세제과(이자소득, 배당소득)), 044-215-4233\n",
      "기획재정부(소득세제과(사업소득, 기타소득)), 044-215-4217\n",
      "\n",
      "제1장 총칙 <개정 2009. 12. 31.>\n",
      "\n",
      "1조(목적)\n",
      "이 법은 개인의 소득에 대하여 소득의 성격과 납세자의 부담능력 등에 따라 적정하게 과세함으로써 조세부담의 형평을 도모하고 재정수입의 원활한 조달에 이바지함을 목적으로 한다.\n",
      "[본조신설 2009. 12. 31.]\n",
      "[종전 제1조는 제2조로 이동 <2009. 12. 31.>]\n",
      "-------------------------------\n",
      "2조(납세의무)\n",
      "1항 다음 각 호의 어느 하나에 해당하는 개인은 이 법에 따라 각자의 소득에 대한 소득세를 납부할 의무를 진다.\n",
      "1호 거주자\n",
      "2호 비거주자로서 국내원천소득(국내에서 발생한 소득)이 있는 개인\n",
      "2항 다음 각 호의 어느 하나에 해당하는 자는 이 법에 따라 원천징수한 소득세를 납부할 의무를 진다.\n",
      "1호 거주자\n",
      "2호 비거주자\n",
      "3호 내국법인\n",
      "4호 외국법인의 국내지점 또는 국내영업소\n",
      "5호 그 밖에 이 법에서 정하는 원천징수의무자\n",
      "3항 「국세기본법」 제13조제1항에 따른 법인 아닌 단체 중 같은 조 제4항에 따른 법인으로 보는 단체 외의 법인 아닌 단체는 국내에 주사무소 또는 사업의 실질적 관리장소를 둔 경우에는 1거주자로, 그 밖의 경우에는 1비거주자로 본다.\n",
      "단, 다음 각 호에 해당하는 경우에는 소득구분에 따라 해당 단체의 각 구성원별로 이 법 또는 「법인세법」에 따라 소득세 또는 법인세를 납부할 의무를 진다.\n",
      "-------------------------------\n",
      "8조(상속 등의 경우의 납세지)\n",
      "1항 상속인 등이 신고한 장소\n",
      "2항 비거주자가 납세관리인 두면 신고장소\n",
      "3항 신고 있으면 신고한 장소\n",
      "4항 신고 없으면 주소·소재지 등\n",
      "5항 국내 주소 없는 공무원 등은 대통령령으로 정하는 장소\n",
      "[전문개정 2009. 12. 31.]\n",
      "\n",
      "9조(납세지의 지정)\n",
      "1항 다음 각 호에 해당하면 국세청장이 별도 지정 가능\n",
      "1호 사업소득자 신청\n",
      "2호 소득 상황상 부적합 또는 불편 인정 시\n",
      "2항 부적합하다고 판단되면 통지\n",
      "3항 지정 사유 소멸 시 취소\n",
      "4항 취소 전 신고, 납부 등 효력 유지\n",
      "[전문개정 2009. 12. 31.]\n",
      "\n",
      "10조(납세지의 변경신고)\n",
      "납세지 변경 시 15일 내 신고\n",
      "[전문개정 2009. 12. 31.]\n",
      "\n",
      "11조(과세 관할)\n",
      "관할 세무서장 또는 지방국세청장이 과세\n",
      "[전문개정 2009. 12. 31.]\n",
      "-------------------------------\n"
     ]
    },
    {
     "name": "stderr",
     "output_type": "stream",
     "text": [
      "c:\\Users\\JS\\.conda\\envs\\ai\\lib\\site-packages\\langchain_core\\vectorstores\\base.py:1082: UserWarning: Relevance scores must be between 0 and 1, got [(Document(id='dc74cc90-830e-49a8-99e2-db5061ce4e3b', metadata={'source': '..\\\\ref\\\\docs\\\\law_test.txt'}, page_content='소득세법\\n[시행 2025. 7. 1.] [법률 제20615호, 2024. 12. 31., 일부개정]\\n\\n기획재정부(재산세제과(양도소득세)), 044-215-4312\\n기획재정부(소득세제과(근로소득)), 044-215-4216\\n기획재정부(금융세제과(이자소득, 배당소득)), 044-215-4233\\n기획재정부(소득세제과(사업소득, 기타소득)), 044-215-4217\\n\\n제1장 총칙 <개정 2009. 12. 31.>\\n\\n1조(목적)\\n이 법은 개인의 소득에 대하여 소득의 성격과 납세자의 부담능력 등에 따라 적정하게 과세함으로써 조세부담의 형평을 도모하고 재정수입의 원활한 조달에 이바지함을 목적으로 한다.\\n[본조신설 2009. 12. 31.]\\n[종전 제1조는 제2조로 이동 <2009. 12. 31.>]'), -0.2030448701041745), (Document(id='64588749-8408-411e-9460-20b451016385', metadata={'source': '..\\\\ref\\\\docs\\\\law_test.txt'}, page_content='2조(납세의무)\\n1항 다음 각 호의 어느 하나에 해당하는 개인은 이 법에 따라 각자의 소득에 대한 소득세를 납부할 의무를 진다.\\n1호 거주자\\n2호 비거주자로서 국내원천소득(국내에서 발생한 소득)이 있는 개인\\n2항 다음 각 호의 어느 하나에 해당하는 자는 이 법에 따라 원천징수한 소득세를 납부할 의무를 진다.\\n1호 거주자\\n2호 비거주자\\n3호 내국법인\\n4호 외국법인의 국내지점 또는 국내영업소\\n5호 그 밖에 이 법에서 정하는 원천징수의무자\\n3항 「국세기본법」 제13조제1항에 따른 법인 아닌 단체 중 같은 조 제4항에 따른 법인으로 보는 단체 외의 법인 아닌 단체는 국내에 주사무소 또는 사업의 실질적 관리장소를 둔 경우에는 1거주자로, 그 밖의 경우에는 1비거주자로 본다.\\n단, 다음 각 호에 해당하는 경우에는 소득구분에 따라 해당 단체의 각 구성원별로 이 법 또는 「법인세법」에 따라 소득세 또는 법인세를 납부할 의무를 진다.'), -0.2306846890639218), (Document(id='a0dd12c9-413a-4031-9f31-454578d886a1', metadata={'source': '..\\\\ref\\\\docs\\\\law_test.txt'}, page_content='8조(상속 등의 경우의 납세지)\\n1항 상속인 등이 신고한 장소\\n2항 비거주자가 납세관리인 두면 신고장소\\n3항 신고 있으면 신고한 장소\\n4항 신고 없으면 주소·소재지 등\\n5항 국내 주소 없는 공무원 등은 대통령령으로 정하는 장소\\n[전문개정 2009. 12. 31.]\\n\\n9조(납세지의 지정)\\n1항 다음 각 호에 해당하면 국세청장이 별도 지정 가능\\n1호 사업소득자 신청\\n2호 소득 상황상 부적합 또는 불편 인정 시\\n2항 부적합하다고 판단되면 통지\\n3항 지정 사유 소멸 시 취소\\n4항 취소 전 신고, 납부 등 효력 유지\\n[전문개정 2009. 12. 31.]\\n\\n10조(납세지의 변경신고)\\n납세지 변경 시 15일 내 신고\\n[전문개정 2009. 12. 31.]\\n\\n11조(과세 관할)\\n관할 세무서장 또는 지방국세청장이 과세\\n[전문개정 2009. 12. 31.]'), -0.23613705826838216)]\n",
      "  self.vectorstore.similarity_search_with_relevance_scores(\n"
     ]
    }
   ],
   "source": [
    "# 유사도 기반 retriever 만들기\n",
    "sim_rt = db.as_retriever(\n",
    "  search_type=\"similarity_score_threshold\",\n",
    "  search_kwargs={\"k\": 3, \"score_threshold\": -0.5}\n",
    ")\n",
    "\n",
    "for i in sim_rt.invoke(\"세율 들에 대해 알려줘\"):\n",
    "    print(i.page_content)\n",
    "    print('-------------------------------')"
   ]
  },
  {
   "cell_type": "markdown",
   "id": "92b96ec5",
   "metadata": {},
   "source": [
    "#### 멀티 모달 검색(추후 구현)\n",
    "\n",
    "* 여러 양식의 데이터를 포함하고 쿼리할 수 있는 컬렉션을 지원"
   ]
  },
  {
   "cell_type": "markdown",
   "id": "78cdc9c5",
   "metadata": {},
   "source": [
    "#### 이미지를 컬렉션에 포함하기 (이게 필요할까?)"
   ]
  },
  {
   "cell_type": "markdown",
   "id": "b5f2ee7b",
   "metadata": {},
   "source": [
    "## LLM 체인 연결"
   ]
  },
  {
   "cell_type": "code",
   "execution_count": 72,
   "id": "5f5550fa",
   "metadata": {},
   "outputs": [],
   "source": [
    "from langchain_openai import ChatOpenAI\n",
    "\n",
    "llm = ChatOpenAI(model=\"gpt-3.5-turbo\",\n",
    "                 temperature=0)"
   ]
  },
  {
   "cell_type": "markdown",
   "id": "8db0c7d7",
   "metadata": {},
   "source": [
    "스트림 출력"
   ]
  },
  {
   "cell_type": "code",
   "execution_count": 81,
   "id": "0e910b53",
   "metadata": {},
   "outputs": [
    {
     "name": "stdout",
     "output_type": "stream",
     "text": [
      "소득세법은 개인의 소득에 대하여 소득의 성격과 납세자의 부담능력 등에 따라 적정하게 과세함으로써 조세부담의 형평을 도모하고 재정수입의 원활한 조달에 이바지함을 목적으로 합니다. 이 법은 국내에 주소를 두거나 183일 이상의 거소를 둔 개인인 \"거주자\"와 거주자가 아닌 개인인 \"비거주자\"를 대상으로 적용됩니다. 또한, 사업소득이 있는 거주자인 \"사업자\"도 소득세법의 적용 대상입니다."
     ]
    }
   ],
   "source": [
    "from langchain.chains import create_retrieval_chain\n",
    "from langchain_core.prompts import ChatPromptTemplate\n",
    "\n",
    "prompt = ChatPromptTemplate.from_template(\n",
    "    \"Answer the following question based on the context: {context}\\nQuestion: {input}\"\n",
    ")\n",
    "\n",
    "chain = create_retrieval_chain(\n",
    "    retriever=mmr_rt,\n",
    "    combine_docs_chain=prompt | llm\n",
    ")\n",
    "\n",
    "# for chunk in chain.stream({\"input\": \"소득세법 적용 대상에 대해 알려줘\"}):\n",
    "#     print(chunk)\n",
    "\n",
    "for chunk in chain.stream({\"input\": \"소득세법 적용 대상에 대해 알려줘\"}):\n",
    "    # answer 키가 있을 때만 출력 (context 등은 무시)\n",
    "    if \"answer\" in chunk:\n",
    "        print(chunk[\"answer\"].content, end=\"\", flush=True)"
   ]
  },
  {
   "cell_type": "code",
   "execution_count": 82,
   "id": "3b9b2d46",
   "metadata": {},
   "outputs": [
    {
     "name": "stdout",
     "output_type": "stream",
     "text": [
      "소득세법은 개인의 소득에 대하여 소득의 성격과 납세자의 부담능력 등에 따라 적정하게 과세함으로써 조세부담의 형평을 도모하고 재정수입의 원활한 조달에 이바지함을 목적으로 합니다. 이 법은 거주자와 비거주자를 구분하여 적용하며, 거주자는 국내에 주소를 두거나 183일 이상의 거소를 둔 개인을 말하고, 비거주자는 거주자가 아닌 개인을 말합니다. 또한, 사업자는 사업소득이 있는 거주자를 말합니다. 해당 법은 대통령령에 따라 구체적인 주소 및 거주자, 비거주자의 구분이 정해지고 있습니다.\n"
     ]
    }
   ],
   "source": [
    "response = chain.invoke({\"input\": \"소득세법 적용 대상에 대해 알려줘\"})\n",
    "print(response[\"answer\"].content)"
   ]
  },
  {
   "cell_type": "markdown",
   "id": "d8ad147e",
   "metadata": {},
   "source": [
    "## RAG 평가 파이프라인"
   ]
  },
  {
   "cell_type": "code",
   "execution_count": null,
   "id": "63d20ced",
   "metadata": {},
   "outputs": [],
   "source": [
    "\n",
    "documents = load_documents(pdf_path)\n",
    "llm = ChatOpenAI(model_name=os.getenv(\"OPENAI_DEFAULT_MODEL\"), temperature=0.9)\n",
    "questions = []\n",
    "\n",
    "for i in range(num_questions):\n",
    "    prompt = f\"\"\"\n",
    "다음 문서를 바탕으로 질문을 1개 생성해 주세요.\n",
    "반드시 질문문장만 출력해 주세요. '질문:'이라는 표현 없이 완전한 한국어 질문 형태로만 작성해 주세요.\n",
    "\n",
    "문서 내용:\n",
    "{documents[i % len(documents)].page_content}\n",
    "\"\"\"\n",
    "    question = llm.invoke(prompt).content\n",
    "    questions.append(question)"
   ]
  }
 ],
 "metadata": {
  "kernelspec": {
   "display_name": "ai",
   "language": "python",
   "name": "python3"
  },
  "language_info": {
   "codemirror_mode": {
    "name": "ipython",
    "version": 3
   },
   "file_extension": ".py",
   "mimetype": "text/x-python",
   "name": "python",
   "nbconvert_exporter": "python",
   "pygments_lexer": "ipython3",
   "version": "3.10.18"
  }
 },
 "nbformat": 4,
 "nbformat_minor": 5
}
