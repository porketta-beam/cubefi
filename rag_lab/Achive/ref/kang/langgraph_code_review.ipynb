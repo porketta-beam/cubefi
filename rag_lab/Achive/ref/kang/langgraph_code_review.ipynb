{
 "cells": [
  {
   "cell_type": "code",
   "execution_count": 1,
   "metadata": {},
   "outputs": [],
   "source": [
    "import langgraph\n",
    "from langchain.chat_models import ChatOpenAI\n",
    "from langchain.schema import SystemMessage, HumanMessage"
   ]
  },
  {
   "cell_type": "code",
   "execution_count": 2,
   "metadata": {},
   "outputs": [
    {
     "name": "stderr",
     "output_type": "stream",
     "text": [
      "/tmp/ipykernel_5967/3971565783.py:3: LangChainDeprecationWarning: The class `ChatOpenAI` was deprecated in LangChain 0.0.10 and will be removed in 1.0. An updated version of the class exists in the :class:`~langchain-openai package and should be used instead. To use it run `pip install -U :class:`~langchain-openai` and import as `from :class:`~langchain_openai import ChatOpenAI``.\n",
      "  llm = ChatOpenAI(model=os.getenv(\"OPENAI_DEFAULT_MODEL\"))\n"
     ]
    }
   ],
   "source": [
    "import os\n",
    "\n",
    "llm = ChatOpenAI(model=os.getenv(\"OPENAI_DEFAULT_MODEL\"))"
   ]
  },
  {
   "cell_type": "code",
   "execution_count": 3,
   "metadata": {},
   "outputs": [],
   "source": [
    "def code_style_check(inputs):\n",
    "    \"\"\"코드 스타일 점검\"\"\"\n",
    "    code = inputs[\"code\"]\n",
    "    prompt = (\n",
    "        \"다음 코드의 스타일을 점검하고 PEP8 준수 여부를 확인하세요:\\n\" + code\n",
    "    )\n",
    "    response = llm.invoke([HumanMessage(content=prompt)])\n",
    "    inputs[\"style_feedback\"] = response.content\n",
    "    return inputs\n",
    "\n",
    "def bug_detection(inputs):\n",
    "    \"\"\"코드에서 버그 가능성 분석\"\"\"\n",
    "    code = inputs[\"code\"]\n",
    "    prompt = (\n",
    "        \"다음 코드에서 잠재적인 버그나 논리적 오류를 찾아 설명하세요:\\n\" + code\n",
    "    )\n",
    "    response = llm.invoke([HumanMessage(content=prompt)])\n",
    "    inputs[\"bug_feedback\"] = response.content\n",
    "    return inputs\n",
    "\n",
    "def optimization_suggestions(inputs):\n",
    "    \"\"\"코드 최적화 제안\"\"\"\n",
    "    code = inputs[\"code\"]\n",
    "    prompt = (\n",
    "        \"다음 코드를 더 효율적으로 최적화할 수 있는 방법을 제안하세요:\\n\" + code\n",
    "    )\n",
    "    response = llm.invoke([HumanMessage(content=prompt)])\n",
    "    inputs[\"optimization_feedback\"] = response.content\n",
    "    return inputs\n",
    "\n",
    "def aggregate_feedback(inputs):\n",
    "    code = inputs[\"code\"]\n",
    "    \"\"\"모든 피드백을 하나로 합쳐 반환\"\"\"\n",
    "    feedback = (\n",
    "        \"코드 스타일 피드백:\\n\" + inputs[\"style_feedback\"] + \"\\n\\n\"\n",
    "        \"버그 가능성 분석:\\n\" + inputs[\"bug_feedback\"] + \"\\n\\n\"\n",
    "        \"최적화 제안:\\n\" + inputs[\"optimization_feedback\"]\n",
    "    )\n",
    "    prompt = (\n",
    "        \"다음 코드와 피드백을 바탕으로 개선된 코드를 작성하세요. 반드시 코드만 출력해야 합니다.\\n\" + \\\n",
    "            \"code: \" + code + \"\\n\\n\" \\\n",
    "            \"피드백: \" + feedback\n",
    "    )\n",
    "    response = llm.invoke([HumanMessage(content=prompt)])\n",
    "    return {\"code\": response.content, \"final_feedback\": feedback}"
   ]
  },
  {
   "cell_type": "code",
   "execution_count": 4,
   "metadata": {},
   "outputs": [],
   "source": [
    "from langgraph.graph import END, Graph, START\n",
    "\n",
    "# LangGraph 워크플로우 구축\n",
    "graph = Graph()\n",
    "graph.add_node(\"style_check\", code_style_check)\n",
    "graph.add_node(\"bug_check\", bug_detection)\n",
    "graph.add_node(\"optimization_check\", optimization_suggestions)\n",
    "graph.add_node(\"aggregate\", aggregate_feedback)\n",
    "\n",
    "# 데이터 흐름 정의\n",
    "graph.add_edge(START, \"style_check\")\n",
    "graph.add_edge(\"style_check\", \"bug_check\")\n",
    "graph.add_edge(\"bug_check\", \"optimization_check\")\n",
    "graph.add_edge(\"optimization_check\", \"aggregate\")\n",
    "graph.add_edge(\"aggregate\", END)\n",
    "\n",
    "app = graph.compile()\n"
   ]
  },
  {
   "cell_type": "code",
   "execution_count": 5,
   "metadata": {},
   "outputs": [
    {
     "data": {
      "image/png": "[encoded data removed]",
      "text/plain": [
       "<IPython.core.display.Image object>"
      ]
     },
     "metadata": {},
     "output_type": "display_data"
    }
   ],
   "source": [
    "from IPython.display import Image, display\n",
    "\n",
    "try:\n",
    "    display(Image(app.get_graph(xray=True).draw_mermaid_png()))\n",
    "except Exception:\n",
    "    # This requires some extra dependencies and is optional\n",
    "    pass"
   ]
  },
  {
   "cell_type": "code",
   "execution_count": 6,
   "metadata": {},
   "outputs": [
    {
     "name": "stdout",
     "output_type": "stream",
     "text": [
      "코드 스타일 피드백:\n",
      "주어진 코드의 스타일은 PEP 8에 따라 몇 가지 개선이 필요합니다. PEP 8은 파이썬의 코드 스타일 가이드로, 가독성을 높이고 일관성을 유지하기 위해 제안된 규칙입니다. 아래는 주어진 코드에서 PEP 8에 따라 수정해야 할 사항들입니다.\n",
      "\n",
      "1. **들여쓰기**: 함수 본문은 들여쓰기가 필요합니다.\n",
      "2. **연산자 주변의 공백**: `+` 연산자 주변에 공백을 추가해야 합니다.\n",
      "\n",
      "수정된 코드는 다음과 같습니다:\n",
      "\n",
      "```python\n",
      "def add_numbers(a, b):\n",
      "    return a + b\n",
      "```\n",
      "\n",
      "이렇게 하면 PEP 8에 보다 적합한 코드가 됩니다.\n",
      "\n",
      "버그 가능성 분석:\n",
      "주어진 코드에는 몇 가지 문제점이 있습니다. 이를 살펴보면:\n",
      "\n",
      "1. **들여쓰기 문제**: Python에서는 코드 블록을 정의할 때 들여쓰기가 중요합니다. `return` 문은 `add_numbers` 함수의 본문에 포함되어야 하므로, `return` 앞에 들여쓰기가 필요합니다. 현재 코드에서는 `return` 문이 함수의 범위 밖으로 나와 있기 때문에 문법 오류가 발생합니다.\n",
      "\n",
      "   수정된 코드는 다음과 같습니다:\n",
      "   ```python\n",
      "   def add_numbers(a, b):\n",
      "       return a + b\n",
      "   ```\n",
      "\n",
      "2. **입력 타입 검증 부족**: 함수는 두 개의 매개변수 `a`와 `b`를 받아서 그 합계를 반환합니다. 하지만 입력값이 숫자가 아닐 경우(예: 문자열, 리스트 등) TypeError가 발생할 수 있습니다. 따라서 함수의 입력값이 올바른지 확인하는 것이 좋습니다.\n",
      "\n",
      "   예를 들어, 다음과 같이 입력 타입을 검증할 수 있습니다:\n",
      "   ```python\n",
      "   def add_numbers(a, b):\n",
      "       if not isinstance(a, (int, float)) or not isinstance(b, (int, float)):\n",
      "           raise ValueError(\"Both a and b must be numbers.\")\n",
      "       return a + b\n",
      "   ```\n",
      "\n",
      "3. **함수 문서화 부족**: 함수의 목적이나 사용 방법에 대해 설명이 없습니다. 이를 해결하기 위해 함수에 docstring을 추가하는 것이 좋습니다. 이는 다른 사용자나 개발자가 코드를 이해하는 데 도움이 됩니다.\n",
      "\n",
      "   예를 들어, 다음과 같이 문서화할 수 있습니다:\n",
      "   ```python\n",
      "   def add_numbers(a, b):\n",
      "       \"\"\"\n",
      "       두 수를 더하여 그 결과를 반환합니다.\n",
      "\n",
      "       :param a: 첫 번째 숫자\n",
      "       :param b: 두 번째 숫자\n",
      "       :return: 두 숫자의 합\n",
      "       \"\"\"\n",
      "       return a + b\n",
      "   ```\n",
      "\n",
      "이러한 점들을 고려하여 코드를 개선하면 더 안전하고 이해하기 쉬운 함수가 될 것입니다.\n",
      "\n",
      "최적화 제안:\n",
      "제안하신 `add_numbers` 함수는 이미 매우 간단하고 효율적입니다. 파라미터 두 개를 받아 그 합을 반환하는 기본적인 기능을 수행하고 있습니다. 그러나 코드의 가독성과 사용성을 높이기 위한 몇 가지 제안을 할 수 있습니다.\n",
      "\n",
      "1. **타입 힌트 추가**: Python 3.5 이상에서는 함수의 매개변수와 반환값의 타입을 명시할 수 있습니다. 이는 코드의 가독성을 높이고, IDE에서의 자동 완성 및 타입 검사에 도움이 됩니다.\n",
      "\n",
      "   ```python\n",
      "   def add_numbers(a: int, b: int) -> int:\n",
      "       return a + b\n",
      "   ```\n",
      "\n",
      "2. **예외 처리 추가**: 입력값으로 숫자가 아닌 값이 들어올 경우를 대비해 예외 처리를 추가할 수 있습니다.\n",
      "\n",
      "   ```python\n",
      "   def add_numbers(a: int, b: int) -> int:\n",
      "       if not isinstance(a, (int, float)) or not isinstance(b, (int, float)):\n",
      "           raise ValueError(\"Both arguments must be numbers.\")\n",
      "       return a + b\n",
      "   ```\n",
      "\n",
      "3. **간단한 람다 함수 사용**: 만약 이 함수가 짧고 자주 사용된다면, 람다 함수를 사용할 수도 있습니다. 그러나 이는 가독성을 떨어뜨릴 수 있으므로 사용 시 주의가 필요합니다.\n",
      "\n",
      "   ```python\n",
      "   add_numbers = lambda a, b: a + b\n",
      "   ```\n",
      "\n",
      "4. **함수 문서화**: 함수의 사용법을 명시하는 docstring을 추가하면 코드의 유지보수성을 높일 수 있습니다.\n",
      "\n",
      "   ```python\n",
      "   def add_numbers(a: int, b: int) -> int:\n",
      "       \"\"\"\n",
      "       두 숫자를 더하여 반환합니다.\n",
      "\n",
      "       :param a: 첫 번째 숫자\n",
      "       :param b: 두 번째 숫자\n",
      "       :return: 두 숫자의 합\n",
      "       \"\"\"\n",
      "       return a + b\n",
      "   ```\n",
      "\n",
      "위의 방법들은 함수의 효율성을 직접적으로 높이지는 않지만, 코드의 가독성, 유지보수성 및 오류 처리를 개선하는 데 기여할 수 있습니다. `add_numbers` 함수 자체의 성능은 이미 최적화되어 있으므로, 실제로 더 효율적인 구현이 필요할 경우는 드물 것입니다.\n"
     ]
    }
   ],
   "source": [
    "sample_code = \"\"\"\n",
    "def add_numbers(a, b):\n",
    "return a+b\n",
    "\"\"\"\n",
    "result = app.invoke({\"code\": sample_code})\n",
    "print(result[\"final_feedback\"])"
   ]
  },
  {
   "cell_type": "code",
   "execution_count": 7,
   "metadata": {},
   "outputs": [
    {
     "name": "stdout",
     "output_type": "stream",
     "text": [
      "```python\n",
      "def add_numbers(a: float, b: float) -> float:\n",
      "    \"\"\"\n",
      "    두 수를 더하여 그 결과를 반환합니다.\n",
      "\n",
      "    :param a: 첫 번째 숫자\n",
      "    :param b: 두 번째 숫자\n",
      "    :return: 두 숫자의 합\n",
      "    :raises ValueError: a와 b가 숫자가 아닐 경우\n",
      "    \"\"\"\n",
      "    if not isinstance(a, (int, float)) or not isinstance(b, (int, float)):\n",
      "        raise ValueError(\"Both arguments must be numbers.\")\n",
      "    return a + b\n",
      "```\n"
     ]
    }
   ],
   "source": [
    "print(result[\"code\"])"
   ]
  }
 ],
 "metadata": {
  "kernelspec": {
   "display_name": "Python 3",
   "language": "python",
   "name": "python3"
  },
  "language_info": {
   "codemirror_mode": {
    "name": "ipython",
    "version": 3
   },
   "file_extension": ".py",
   "mimetype": "text/x-python",
   "name": "python",
   "nbconvert_exporter": "python",
   "pygments_lexer": "ipython3",
   "version": "3.10.12"
  }
 },
 "nbformat": 4,
 "nbformat_minor": 2
}
