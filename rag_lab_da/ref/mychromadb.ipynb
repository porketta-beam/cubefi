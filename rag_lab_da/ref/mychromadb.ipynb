{
 "cells": [
  {
   "cell_type": "markdown",
   "metadata": {},
   "source": []
  },
  {
   "cell_type": "code",
   "execution_count": 4,
   "metadata": {},
   "outputs": [],
   "source": [
    "import chromadb\n",
    "\n",
    "client = chromadb.PersistentClient(path=\"..\\\\chroma_db\")\n",
    "collection = client.get_or_create_collection(name=\"my_collection\")\n",
    "\n",
    "collection.add(\n",
    "    documents=[\"apple\", \"banana\"],\n",
    "    metadatas=[{\"type\": \"fruit\"}, {\"type\": \"fruit\"}],\n",
    "    ids=[\"1\", \"22\"])\n"
   ]
  },
  {
   "cell_type": "code",
   "execution_count": 6,
   "metadata": {},
   "outputs": [
    {
     "name": "stdout",
     "output_type": "stream",
     "text": [
      "{'ids': ['1', '22'], 'embeddings': None, 'documents': ['apple', 'banana'], 'uris': None, 'included': ['metadatas', 'documents'], 'data': None, 'metadatas': [{'type': 'fruit'}, {'type': 'fruit'}]}\n"
     ]
    }
   ],
   "source": [
    "all_data = collection.get()\n",
    "print(all_data)"
   ]
  },
  {
   "cell_type": "markdown",
   "metadata": {},
   "source": [
    "### update 하기"
   ]
  },
  {
   "cell_type": "code",
   "execution_count": 7,
   "metadata": {},
   "outputs": [],
   "source": [
    "collection.update(\n",
    "    documents=[\"green apple\"],\n",
    "    metadatas=[{\"type\": \"fruit\", \"color\": \"green\", \"source\": \"doc1\"}],\n",
    "    ids=[\"1\"]\n",
    ")"
   ]
  },
  {
   "cell_type": "code",
   "execution_count": 8,
   "metadata": {},
   "outputs": [
    {
     "name": "stdout",
     "output_type": "stream",
     "text": [
      "{'ids': ['1', '22'], 'embeddings': None, 'documents': ['green apple', 'banana'], 'uris': None, 'included': ['metadatas', 'documents'], 'data': None, 'metadatas': [{'color': 'green', 'type': 'fruit', 'source': 'doc1'}, {'type': 'fruit'}]}\n"
     ]
    }
   ],
   "source": [
    "all_data = collection.get()\n",
    "print(all_data)"
   ]
  }
 ],
 "metadata": {
  "kernelspec": {
   "display_name": "ai",
   "language": "python",
   "name": "python3"
  },
  "language_info": {
   "codemirror_mode": {
    "name": "ipython",
    "version": 3
   },
   "file_extension": ".py",
   "mimetype": "text/x-python",
   "name": "python",
   "nbconvert_exporter": "python",
   "pygments_lexer": "ipython3",
   "version": "3.10.18"
  }
 },
 "nbformat": 4,
 "nbformat_minor": 2
}
