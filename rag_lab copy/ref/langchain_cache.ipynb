{
 "cells": [
  {
   "cell_type": "markdown",
   "metadata": {},
   "source": [
    "# 5일차 LangChain Cache"
   ]
  },
  {
   "cell_type": "code",
   "execution_count": 1,
   "metadata": {},
   "outputs": [
    {
     "name": "stdout",
     "output_type": "stream",
     "text": [
      "redis-17159.c340.ap-northeast-2-1.ec2.redns.redis-cloud.com wJgVC08xoYqIaZcMLZNfakAFB8GQr91G\n"
     ]
    }
   ],
   "source": [
    "from dotenv import load_dotenv\n",
    "import os\n",
    "\n",
    "load_dotenv(dotenv_path='../.env', override=True)\n",
    "\n",
    "api = os.getenv(\"API2\")\n",
    "model = 'gpt-4o'\n",
    "\n",
    "REDIS_HOST = os.getenv(\"REDIS_HOST\")\n",
    "REDIS_PWD = os.getenv(\"REDIS_PWD\")\n",
    "\n",
    "\n",
    "print(REDIS_HOST, REDIS_PWD)"
   ]
  },
  {
   "cell_type": "code",
   "execution_count": 2,
   "metadata": {},
   "outputs": [],
   "source": [
    "from langchain_openai import ChatOpenAI\n",
    "\n",
    "llm = ChatOpenAI(model=model,\n",
    "                 api_key=api) #GPT-4o 모델 선택"
   ]
  },
  {
   "cell_type": "markdown",
   "metadata": {},
   "source": [
    "## IN-MEMORY CACHE란?\n",
    "\n",
    "* 프로그램이 실행되는 동안 적용되는 캐시\n",
    "\n",
    "주의사항 \n",
    "\n",
    "* 메시지나 프롬프트가 조금이라도 달라지면 → 캐시 미적용\n",
    "* LLM마다 캐시키 구조가 다를 수 있음 (예: ChatOpenAI vs OpenAI)\n",
    "* temperature 같은 파라미터가 다르면 다른 응답이 나오기 때문에 캐시 키도 달라짐"
   ]
  },
  {
   "cell_type": "code",
   "execution_count": 3,
   "metadata": {},
   "outputs": [],
   "source": [
    "from langchain_core.globals import set_llm_cache # 캐시를 설정해주는 모듈\n",
    "from langchain_core.caches import InMemoryCache # IN-MEMORY CACHE 모듈\n",
    "from langchain_core.messages import HumanMessage, AIMessage, SystemMessage\n",
    "\n",
    "set_llm_cache(InMemoryCache()) # 메모리 캐시를 설정합니다. 프로그램이 실행되는 동안에만 캐시가 유지되며, 프로그램이 종료되면 캐시도 함께 삭제됩니다."
   ]
  },
  {
   "cell_type": "code",
   "execution_count": 4,
   "metadata": {},
   "outputs": [
    {
     "name": "stdout",
     "output_type": "stream",
     "text": [
      "<class 'langchain_core.messages.human.HumanMessage'>\n"
     ]
    }
   ],
   "source": [
    "massage_history = [\n",
    "    HumanMessage(content=\"서울 광장시장 맛집 추천, 알곤이 맛집 중심으로 추천\")\n",
    "]\n",
    "\n",
    "print(type(massage_history[0]))\n",
    "\n"
   ]
  },
  {
   "cell_type": "code",
   "execution_count": 5,
   "metadata": {},
   "outputs": [
    {
     "name": "stdout",
     "output_type": "stream",
     "text": [
      "서울 광장시장은 다양한 먹거리로 유명한 곳으로, 특히 알곤이(알곱창) 맛집도 여럿 있습니다. 다음은 광장시장에서 알곤이로 유명한 몇 가지 맛집 추천입니다.\n",
      "\n",
      "1. **순희네 빈대떡**:\n",
      "   - 빈대떡이 메인이지만, 알곱창도 인기 메뉴 중 하나입니다. 고소하고 담백한 맛으로 많은 사람들이 찾는 맛집입니다.\n",
      "\n",
      "2. **마약김밥과 빈대떡 원조**:\n",
      "   - 이곳 역시 주메뉴는 아니지만 곁들여 먹기 좋은 알곱창이 유명합니다. 광장시장에서는 다양한 음식을 한 번에 즐기는 재미가 있습니다.\n",
      "\n",
      "3. **광장시장 알곱창집**:\n",
      "   - 시장 내에 있는 작은 식당으로, 신선한 재료로 만든 알곱창을 제공합니다. 많은 분들이 부담 없이 찾는 곳입니다.\n",
      "\n",
      "4. **전주집**:\n",
      "   - 다양한 전과 함께 맛볼 수 있는 알곱창이 유명합니다. 특히 고소한 맛과 함께 어우러지는 전이 별미입니다.\n",
      "\n",
      "광장시장은 비교적 작은 구역 안에 여러 맛집이 모여 있어, 다양한 음식을 손쉽게 즐길 수 있는 장점이 있습니다. 방문 시에는 여러 메뉴를 조금씩 맛보는 것도 좋은 방법입니다.\n"
     ]
    }
   ],
   "source": [
    "response = llm.invoke(massage_history)\n",
    "print(response.content)"
   ]
  },
  {
   "cell_type": "markdown",
   "metadata": {},
   "source": [
    "* 캐시가 적용되어 있기 때문에 같은 메시지를 입력하면 같은 응답을 받음\n",
    "* 캐시에서 답변을 불러오는 경우 비용이 절감됨"
   ]
  },
  {
   "cell_type": "code",
   "execution_count": 6,
   "metadata": {},
   "outputs": [
    {
     "name": "stdout",
     "output_type": "stream",
     "text": [
      "서울 광장시장은 다양한 먹거리로 유명한 곳으로, 특히 알곤이(알곱창) 맛집도 여럿 있습니다. 다음은 광장시장에서 알곤이로 유명한 몇 가지 맛집 추천입니다.\n",
      "\n",
      "1. **순희네 빈대떡**:\n",
      "   - 빈대떡이 메인이지만, 알곱창도 인기 메뉴 중 하나입니다. 고소하고 담백한 맛으로 많은 사람들이 찾는 맛집입니다.\n",
      "\n",
      "2. **마약김밥과 빈대떡 원조**:\n",
      "   - 이곳 역시 주메뉴는 아니지만 곁들여 먹기 좋은 알곱창이 유명합니다. 광장시장에서는 다양한 음식을 한 번에 즐기는 재미가 있습니다.\n",
      "\n",
      "3. **광장시장 알곱창집**:\n",
      "   - 시장 내에 있는 작은 식당으로, 신선한 재료로 만든 알곱창을 제공합니다. 많은 분들이 부담 없이 찾는 곳입니다.\n",
      "\n",
      "4. **전주집**:\n",
      "   - 다양한 전과 함께 맛볼 수 있는 알곱창이 유명합니다. 특히 고소한 맛과 함께 어우러지는 전이 별미입니다.\n",
      "\n",
      "광장시장은 비교적 작은 구역 안에 여러 맛집이 모여 있어, 다양한 음식을 손쉽게 즐길 수 있는 장점이 있습니다. 방문 시에는 여러 메뉴를 조금씩 맛보는 것도 좋은 방법입니다.\n"
     ]
    }
   ],
   "source": [
    "response = llm.invoke(massage_history)\n",
    "print(response.content)"
   ]
  },
  {
   "cell_type": "code",
   "execution_count": 7,
   "metadata": {},
   "outputs": [],
   "source": [
    "from langchain_openai import ChatOpenAI\n",
    "\n",
    "llm1 = ChatOpenAI(model=model,\n",
    "                  api_key=api) #GPT-4o 모델 선택\n",
    "llm2 = ChatOpenAI(model=model,\n",
    "                  api_key=api,\n",
    "                  cache=False) #GPT-4o 모델 선택"
   ]
  },
  {
   "cell_type": "code",
   "execution_count": 8,
   "metadata": {},
   "outputs": [
    {
     "name": "stdout",
     "output_type": "stream",
     "text": [
      "서울 광장시장은 다양한 먹거리로 유명한 곳으로, 특히 알곤이(알곱창) 맛집도 여럿 있습니다. 다음은 광장시장에서 알곤이로 유명한 몇 가지 맛집 추천입니다.\n",
      "\n",
      "1. **순희네 빈대떡**:\n",
      "   - 빈대떡이 메인이지만, 알곱창도 인기 메뉴 중 하나입니다. 고소하고 담백한 맛으로 많은 사람들이 찾는 맛집입니다.\n",
      "\n",
      "2. **마약김밥과 빈대떡 원조**:\n",
      "   - 이곳 역시 주메뉴는 아니지만 곁들여 먹기 좋은 알곱창이 유명합니다. 광장시장에서는 다양한 음식을 한 번에 즐기는 재미가 있습니다.\n",
      "\n",
      "3. **광장시장 알곱창집**:\n",
      "   - 시장 내에 있는 작은 식당으로, 신선한 재료로 만든 알곱창을 제공합니다. 많은 분들이 부담 없이 찾는 곳입니다.\n",
      "\n",
      "4. **전주집**:\n",
      "   - 다양한 전과 함께 맛볼 수 있는 알곱창이 유명합니다. 특히 고소한 맛과 함께 어우러지는 전이 별미입니다.\n",
      "\n",
      "광장시장은 비교적 작은 구역 안에 여러 맛집이 모여 있어, 다양한 음식을 손쉽게 즐길 수 있는 장점이 있습니다. 방문 시에는 여러 메뉴를 조금씩 맛보는 것도 좋은 방법입니다.\n"
     ]
    }
   ],
   "source": [
    "response1 = llm1.invoke(massage_history)\n",
    "print(response1.content)"
   ]
  },
  {
   "cell_type": "code",
   "execution_count": 9,
   "metadata": {},
   "outputs": [
    {
     "name": "stdout",
     "output_type": "stream",
     "text": [
      "광장시장은 서울에서 전통적인 분위기를 느낄 수 있는 인기 있는 시장 중 하나로, 다양한 먹거리로 유명합니다. 알곤이(알곰이)는 대구나 명태의 알로 만든 요리로, 따뜻하고 고소한 맛이 일품입니다. 광장시장 근처에서 알곤이 맛집을 찾으신다면 몇 가지 추천 드릴게요.\n",
      "\n",
      "1. **순희네 빈대떡**: 직접적으로 알곤이를 전문으로 하진 않지만, 순희네 빈대떡에서는 다양한 해산물 요리를 맛볼 수 있습니다. 알이 들어간 해물 파전 같은 메뉴와 함께 즐기시면 좋습니다.\n",
      "\n",
      "2. **김밥천국 광장시장점**: 김밥천국에서는 다양한 종류의 찌개 메뉴를 제공합니다. 이곳에서 알탕 또는 해물탕을 주문하여 알곤이를 맛볼 수 있습니다.\n",
      "\n",
      "3. **마약김밥**: 광장시장의 명물인 마약김밥과 함께 근처에서 판매하는 알탕을 즐기시는 것도 좋은 선택입니다. 시장 안에 다양한 포장마차들이 있으므로, 시장을 둘러보면서 알곤이 요리를 찾을 수 있습니다.\n",
      "\n",
      "광장시장은 워낙 다양한 음식점과 포장마차가 모여 있어 직접 둘러보면서 입맛에 맞는 곳을 찾아보시는 것도 추천드립니다. 시장 특성상 매일 운영되지 않는 가게도 있으니 방문 전에 확인해 보세요. 즐거운 시장 탐방 되시길 바랍니다!\n"
     ]
    }
   ],
   "source": [
    "response2 = llm2.invoke(massage_history)\n",
    "print(response2.content)"
   ]
  },
  {
   "cell_type": "markdown",
   "metadata": {},
   "source": [
    "## REDIS CACHE 예제"
   ]
  },
  {
   "cell_type": "code",
   "execution_count": 10,
   "metadata": {},
   "outputs": [],
   "source": [
    "from langchain_core.globals import set_llm_cache # 캐시를 설정해주는 모듈\n",
    "from langchain_community.cache import RedisCache # Redis 캐시 모듈\n",
    "from redis import Redis\n",
    "import redis\n",
    "\n",
    "set_llm_cache(RedisCache(\n",
    "    redis_=Redis(host=REDIS_HOST, \n",
    "                port=17159, \n",
    "                password=REDIS_PWD)\n",
    "))\n",
    "\n",
    "llm = ChatOpenAI(model=\"gpt-4o\",\n",
    "                 api_key=api)\n",
    "\n",
    "message1 = [HumanMessage(content=\"서울에서 가장 맛있는 길거리 음식은 5개를 소개해 주세요\")]\n",
    "message2 = [HumanMessage(content=\"서울에서 가장 맛있는 길거리 음식은 10개를 소개해 주세요\")]"
   ]
  },
  {
   "cell_type": "code",
   "execution_count": 11,
   "metadata": {},
   "outputs": [
    {
     "name": "stdout",
     "output_type": "stream",
     "text": [
      "서울에서 맛있는 길거리 음식은 정말 다양합니다. 여기 몇 가지 추천하는 음식들을 소개합니다:\n",
      "\n",
      "1. **떡볶이**: 쫄깃한 떡과 매콤달콤한 소스가 조화를 이루는 떡볶이는 한국의 대표적인 길거리 음식입니다. 종로나 명동 같은 곳에서 쉽게 즐길 수 있습니다.\n",
      "\n",
      "2. **호떡**: 추운 날씨에 딱 좋은 달콤한 호떡은 속에 시럽이 가득하고 겉은 바삭한 디저트입니다. 대형 시장이나 번화가에서 자주 볼 수 있습니다.\n",
      "\n",
      "3. **순대**: 찹쌀, 당면, 피 등을 돼지 창자에 넣어 만든 음식으로, 간단히 소금이나 쌈장에 찍어 먹으면 훌륭한 간식이 됩니다. 서울의 여러 포장마차에서 맛볼 수 있습니다.\n",
      "\n",
      "4. **붕어빵**: 겨울철에 특히 인기 있는 붕어빵은 달콤한 팥이 들어간 붕어 모양의 빵입니다. 길거리에서 팔고 있어 쉽게 찾을 수 있습니다.\n",
      "\n",
      "5. **계란빵**: 폭신한 빵 속에 달걀이 통째로 들어간 간식으로, 달걀과 빵의 조합이 아주 훌륭합니다. 서울 전역의 포장마차에서 인기가 많습니다.\n",
      "\n",
      "이 외에도 서울에는 다양한 길거리 음식이 많으니, 방문하실 때 여러 가지를 시도해보시길 추천합니다!\n",
      "CPU times: total: 0 ns\n",
      "Wall time: 86.5 ms\n"
     ]
    }
   ],
   "source": [
    "%%time\n",
    "\n",
    "response = llm.invoke(message1)\n",
    "print(response.content)\n"
   ]
  },
  {
   "cell_type": "code",
   "execution_count": 12,
   "metadata": {},
   "outputs": [
    {
     "name": "stdout",
     "output_type": "stream",
     "text": [
      "서울은 다양한 길거리 음식으로 유명한 도시입니다. 여기 서울에서 꼭 맛봐야 할 10가지 길거리 음식을 소개합니다:\n",
      "\n",
      "1. **떡볶이** - 매콤하고 달콤한 고추장 소스로 버무린 떡볶이는 서울 길거리 음식의 대표 메뉴입니다.\n",
      "\n",
      "2. **호떡** - 달콤한 시럽이 들어있는 호떡은 추운 겨울 길거리에서 많이 찾게 되는 간식입니다.\n",
      "\n",
      "3. **순대** - 돼지의 내장을 사용해 만든 순대는 한국식 소시지로, 주로 찐 형태로 판매됩니다.\n",
      "\n",
      "4. **붕어빵** - 팥이나 슈크림을 넣은 붕어 모양의 빵으로 겨울철 인기 간식입니다.\n",
      "\n",
      "5. **어묵** - 따뜻한 국물과 함께 제공되는 어묵은 서울의 길거리에서 흔히 볼 수 있는 음식입니다.\n",
      "\n",
      "6. **김밥** - 다양한 재료를 김과 밥으로 말아 만든 김밥은 간단하면서도 든든한 길거리 음식입니다.\n",
      "\n",
      "7. **튀김** - 오징어, 채소, 떡 등 다양한 재료를 바삭하게 튀겨낸 튀김은 떡볶이와 함께 즐기기 좋습니다.\n",
      "\n",
      "8. **밤** - 가을과 겨울에 특히 인기 있는 군밤은 따뜻하고 고소한 맛을 자랑합니다.\n",
      "\n",
      "9. **닭꼬치** - 양념이 된 닭고기를 꼬치에 꿰어 구워낸 닭꼬치는 간편하게 즐길 수 있는 간식입니다.\n",
      "\n",
      "10. **계란빵** - 부드러운 빵 위에 계란이 올라가 구워진 계란빵은 아침이나 간식으로 사랑받고 있습니다.\n",
      "\n",
      "서울의 길거리 음식은 다양하고 맛있으며, 각 지역마다 특색 있게 변형된 버전들을 찾아보는 재미도 있습니다.\n",
      "CPU times: total: 0 ns\n",
      "Wall time: 12 ms\n"
     ]
    }
   ],
   "source": [
    "%%time\n",
    "\n",
    "response = llm.invoke(message2)\n",
    "print(response.content)"
   ]
  },
  {
   "cell_type": "markdown",
   "metadata": {},
   "source": [
    "# PROMPT ENGINEERING\n",
    "\n",
    "## LANGCHAIN 의 PROMPT TEMPLATE\n",
    "\n",
    "* 동적으로 프롬프트 만드는 법"
   ]
  },
  {
   "cell_type": "markdown",
   "metadata": {},
   "source": [
    "### 프롬프트 템플릿 만드는 방법"
   ]
  },
  {
   "cell_type": "code",
   "execution_count": 13,
   "metadata": {},
   "outputs": [
    {
     "name": "stdout",
     "output_type": "stream",
     "text": [
      "인공지능에 대해 알려줘.\n"
     ]
    }
   ],
   "source": [
    "from langchain.prompts import PromptTemplate\n",
    "\n",
    "template = PromptTemplate(\n",
    "    input_variables=[\"topic\"],                # 사용할 변수 이름들\n",
    "    template=\"{topic}에 대해 알려줘.\"  # 실제 프롬프트 문자열\n",
    ")\n",
    "\n",
    "prompt = template.format(topic=\"인공지능\")     # → 문자열 생성\n",
    "print(prompt)"
   ]
  },
  {
   "cell_type": "code",
   "execution_count": 14,
   "metadata": {},
   "outputs": [
    {
     "name": "stdout",
     "output_type": "stream",
     "text": [
      "성수에서 간단한 점심메뉴을 알려주세요.\n",
      "성수동은 다양한 맛집이 많아서 점심 식사를 즐기기에 좋은 장소입니다. 여기 몇 가지 간단하고 인기 있는 점심 메뉴를 소개해드리겠습니다.\n",
      "\n",
      "1. **비빔밥**: 여러 가지 신선한 채소와 고기를 밥 위에 얹어 고추장과 함께 섞어 먹는 건강식입니다.\n",
      "\n",
      "2. **김치찌개**: 한국 전통 김치로 만든 매콤한 국물 요리로, 두부와 돼지고기 등을 넣어 끓입니다.\n",
      "\n",
      "3. **칼국수**: 손으로 만든 면발과 신선한 해산물 또는 다양한 채소를 사용해 만든 따뜻한 국수 요리입니다.\n",
      "\n",
      "4. **샌드위치**: 간단하게 카페나 테이크아웃 전문점에서 신선한 재료로 만든 샌드위치를 즐길 수 있습니다.\n",
      "\n",
      "5. **햄버거**: 다양한 수제 버거 가게들이 있어 취향에 맞게 선택할 수 있습니다.\n",
      "\n",
      "6. **김밥**: 간편하게 먹기 좋은 김밥은 여러 가지 재료를 밥과 김으로 말아 만든 음식으로, 다양한 속재료를 선택할 수 있습니다.\n",
      "\n",
      "성수는 다양한 취향과 예산에 맞는 맛집이 많으니, 방문할 때마다 새로운 곳을 탐험해보는 것도 좋습니다.\n"
     ]
    }
   ],
   "source": [
    "from langchain.prompts import PromptTemplate\n",
    "\n",
    "template = PromptTemplate.from_template(\"{city}에서 {adjective} {topic}을 알려주세요.\")\n",
    "prompt = template.format(city=\"성수\", adjective=\"간단한\", topic=\"점심메뉴\")\n",
    "print(prompt)\n",
    "response = llm.invoke(prompt)\n",
    "print(response.content)"
   ]
  },
  {
   "cell_type": "markdown",
   "metadata": {},
   "source": [
    "* 탬플릿이 이런 식으로 저장된다.\n",
    "  * JSON 형식으로 저장된 모습\n",
    "  * ENCODING 과정을 거친다."
   ]
  },
  {
   "cell_type": "code",
   "execution_count": 15,
   "metadata": {},
   "outputs": [
    {
     "ename": "NameError",
     "evalue": "name 'null' is not defined",
     "output_type": "error",
     "traceback": [
      "\u001b[1;31m---------------------------------------------------------------------------\u001b[0m",
      "\u001b[1;31mNameError\u001b[0m                                 Traceback (most recent call last)",
      "Cell \u001b[1;32mIn[15], line 2\u001b[0m\n\u001b[0;32m      1\u001b[0m {\n\u001b[1;32m----> 2\u001b[0m     \u001b[38;5;124m\"\u001b[39m\u001b[38;5;124mname\u001b[39m\u001b[38;5;124m\"\u001b[39m: \u001b[43mnull\u001b[49m,\n\u001b[0;32m      3\u001b[0m     \u001b[38;5;124m\"\u001b[39m\u001b[38;5;124minput_variables\u001b[39m\u001b[38;5;124m\"\u001b[39m: [\n\u001b[0;32m      4\u001b[0m         \u001b[38;5;124m\"\u001b[39m\u001b[38;5;124madjective\u001b[39m\u001b[38;5;124m\"\u001b[39m,\n\u001b[0;32m      5\u001b[0m         \u001b[38;5;124m\"\u001b[39m\u001b[38;5;124mcity\u001b[39m\u001b[38;5;124m\"\u001b[39m,\n\u001b[0;32m      6\u001b[0m         \u001b[38;5;124m\"\u001b[39m\u001b[38;5;124mtopic\u001b[39m\u001b[38;5;124m\"\u001b[39m\n\u001b[0;32m      7\u001b[0m     ],\n\u001b[0;32m      8\u001b[0m     \u001b[38;5;124m\"\u001b[39m\u001b[38;5;124moptional_variables\u001b[39m\u001b[38;5;124m\"\u001b[39m: [],\n\u001b[0;32m      9\u001b[0m     \u001b[38;5;124m\"\u001b[39m\u001b[38;5;124moutput_parser\u001b[39m\u001b[38;5;124m\"\u001b[39m: null,\n\u001b[0;32m     10\u001b[0m     \u001b[38;5;124m\"\u001b[39m\u001b[38;5;124mpartial_variables\u001b[39m\u001b[38;5;124m\"\u001b[39m: {},\n\u001b[0;32m     11\u001b[0m     \u001b[38;5;124m\"\u001b[39m\u001b[38;5;124mmetadata\u001b[39m\u001b[38;5;124m\"\u001b[39m: null,\n\u001b[0;32m     12\u001b[0m     \u001b[38;5;124m\"\u001b[39m\u001b[38;5;124mtags\u001b[39m\u001b[38;5;124m\"\u001b[39m: null,\n\u001b[0;32m     13\u001b[0m     \u001b[38;5;66;03m# ENCODING된 모습\u001b[39;00m\n\u001b[0;32m     14\u001b[0m     \u001b[38;5;124m\"\u001b[39m\u001b[38;5;124mtemplate\u001b[39m\u001b[38;5;124m\"\u001b[39m: \u001b[38;5;124m\"\u001b[39m\u001b[38;5;132;01m{city}\u001b[39;00m\u001b[38;5;130;01m\\uc5d0\u001b[39;00m\u001b[38;5;130;01m\\uc11c\u001b[39;00m\u001b[38;5;124m \u001b[39m\u001b[38;5;132;01m{adjective}\u001b[39;00m\u001b[38;5;124m \u001b[39m\u001b[38;5;132;01m{topic}\u001b[39;00m\u001b[38;5;130;01m\\uc744\u001b[39;00m\u001b[38;5;124m \u001b[39m\u001b[38;5;130;01m\\uc54c\u001b[39;00m\u001b[38;5;130;01m\\ub824\u001b[39;00m\u001b[38;5;130;01m\\uc8fc\u001b[39;00m\u001b[38;5;130;01m\\uc138\u001b[39;00m\u001b[38;5;130;01m\\uc694\u001b[39;00m\u001b[38;5;124m.\u001b[39m\u001b[38;5;124m\"\u001b[39m,\n\u001b[0;32m     15\u001b[0m     \u001b[38;5;124m\"\u001b[39m\u001b[38;5;124mtemplate_format\u001b[39m\u001b[38;5;124m\"\u001b[39m: \u001b[38;5;124m\"\u001b[39m\u001b[38;5;124mf-string\u001b[39m\u001b[38;5;124m\"\u001b[39m,\n\u001b[0;32m     16\u001b[0m     \u001b[38;5;124m\"\u001b[39m\u001b[38;5;124mvalidate_template\u001b[39m\u001b[38;5;124m\"\u001b[39m: false,\n\u001b[0;32m     17\u001b[0m     \u001b[38;5;124m\"\u001b[39m\u001b[38;5;124m_type\u001b[39m\u001b[38;5;124m\"\u001b[39m: \u001b[38;5;124m\"\u001b[39m\u001b[38;5;124mprompt\u001b[39m\u001b[38;5;124m\"\u001b[39m\n\u001b[0;32m     18\u001b[0m }\n",
      "\u001b[1;31mNameError\u001b[0m: name 'null' is not defined"
     ]
    }
   ],
   "source": [
    "{\n",
    "    \"name\": null,\n",
    "    \"input_variables\": [\n",
    "        \"adjective\",\n",
    "        \"city\",\n",
    "        \"topic\"\n",
    "    ],\n",
    "    \"optional_variables\": [],\n",
    "    \"output_parser\": null,\n",
    "    \"partial_variables\": {},\n",
    "    \"metadata\": null,\n",
    "    \"tags\": null,\n",
    "    # ENCODING된 모습\n",
    "    \"template\": \"{city}\\uc5d0\\uc11c {adjective} {topic}\\uc744 \\uc54c\\ub824\\uc8fc\\uc138\\uc694.\",\n",
    "    \"template_format\": \"f-string\",\n",
    "    \"validate_template\": false,\n",
    "    \"_type\": \"prompt\"\n",
    "}"
   ]
  },
  {
   "cell_type": "markdown",
   "metadata": {},
   "source": [
    "### prompt 를 스트링으로 만드는 방법"
   ]
  },
  {
   "cell_type": "code",
   "execution_count": null,
   "metadata": {},
   "outputs": [
    {
     "name": "stdout",
     "output_type": "stream",
     "text": [
      "\n",
      "다음 요리의 레시피를 알려줘.\n",
      "\n",
      "요리 : 카레\n",
      "\n",
      "카레는 다양한 재료와 향신료를 사용하여 깊은 맛을 내는 요리 중 하나입니다. 여기에서는 기본적인 한국식 카레 레시피를 소개하겠습니다.\n",
      "\n",
      "### 재료:\n",
      "- 카레 가루 또는 고형 카레: 100g (1봉지)\n",
      "- 고기 (쇠고기, 돼지고기, 닭고기 중 선택): 200g\n",
      "- 양파: 1개\n",
      "- 감자: 2개\n",
      "- 당근: 1개\n",
      "- 물: 3컵\n",
      "- 식용유: 2큰술\n",
      "- 소금과 후추: 약간\n",
      "\n",
      "### 선택 재료:\n",
      "- 사과: 1/2개 (단맛을 더하고 싶을 경우)\n",
      "- 마늘: 2쪽 (풍미를 더하고 싶을 경우)\n",
      "- 기타 채소 (예: 피망, 완두콩 등)\n",
      "\n",
      "### 조리 방법:\n",
      "\n",
      "1. **재료 준비하기**:\n",
      "   - 고기는 한 입 크기로 썰어 소금과 후추로 간을 해둡니다.\n",
      "   - 양파는 얇게 채 썰고, 감자와 당근은 깍둑썰기 합니다.\n",
      "   - 사과와 마늘을 사용할 경우, 사과는 강판에 갈고 마늘은 다져둡니다.\n",
      "\n",
      "2. **볶기**:\n",
      "   - 큰 냄비에 식용유를 두르고 중불에서 달군 후, 양파를 넣고 투명해질 때까지 볶습니다.\n",
      "   - 고기를 넣고 갈색이 돌 때까지 볶습니다. 마늘을 사용하는 경우, 이 시점에 함께 첨가하여 볶습니다.\n",
      "\n",
      "3. **끓이기**:\n",
      "   - 감자와 당근을 넣고 1~2분간 더 볶아줍니다.\n",
      "   - 물 3컵을 붓고 끓입니다. 끓기 시작하면 불을 중약불로 줄이고 감자가 익을 때까지 약 10~15분간 끓입니다.\n",
      "\n",
      "4. **카레 넣기**:\n",
      "   - 감자가 익으면 불을 약하게 줄이고 카레 가루 또는 고형 카레를 넣고 잘 풀어줍니다.\n",
      "   - 카레가 잘 풀어지면 다시 중불로 올려 5분 정도 더 끓입니다. 이때 사과를 사용할 경우, 갈은 사과를 추가합니다.\n",
      "\n",
      "5. **마무리**:\n",
      "   - 카레가 적당한 농도로 걸쭉해지면 불을 끄고, 소금과 후추로 간을 조절합니다.\n",
      "   - 완성된 카레를 밥 위에 얹어 내거나, 따로 그릇에 담아 즐깁니다.\n",
      "\n",
      "맛있게 드세요! 카레는 취향에 따라 재료나 향신료를 조절하여 다양하게 즐길 수 있는 요리이므로, 자신의 입맛에 맞게 변형해보세요.\n"
     ]
    }
   ],
   "source": [
    "temp_str = \"\"\"\n",
    "다음 요리의 레시피를 알려줘.\n",
    "\n",
    "요리 : {dish}\n",
    "\"\"\"\n",
    "\n",
    "# template = PromptTemplate(\n",
    "#     input_variables=[\"dish\"],   # 사용할 변수 이름들\n",
    "#     template=temp_str  # 실제 프롬프트 문자열\n",
    "# )\n",
    "\n",
    "prompt = PromptTemplate.from_template(temp_str)\n",
    "\n",
    "message = prompt.format(dish=\"카레\")     # → 문자열 생성\n",
    "print(message)\n",
    "\n",
    "response = llm.invoke(message)\n",
    "print(response.content)"
   ]
  },
  {
   "cell_type": "markdown",
   "metadata": {},
   "source": [
    "### 예제\n",
    "\n",
    "* Mandatory Field 만들기\n",
    "\n",
    "{location}에서 {adjective} {topic}을 알려줘."
   ]
  },
  {
   "cell_type": "code",
   "execution_count": 29,
   "metadata": {},
   "outputs": [
    {
     "name": "stdout",
     "output_type": "stream",
     "text": [
      "서울숲 근처에는 다양한 맛집들이 많지만, 가성비 좋은 회덮밥을 찾으신다면 몇 가지 추천드릴 수 있습니다. 물론 개인의 취향에 따라 다를 수 있지만, 보통 가성비가 좋다고 알려진 몇 군데를 소개해 드릴게요.\n",
      "\n",
      "1. **동해수산**: 이곳은 비교적 저렴한 가격에 신선한 해산물을 제공합니다. 다양한 생선회와 함께 나오는 회덮밥은 푸짐하고 맛있습니다.\n",
      "\n",
      "2. **특초밥**: 이름은 초밥이지만 회덮밥도 제공하며, 가성비와 맛 모두 호평을 받고 있습니다. 해산물이 신선하고 야채와의 조합이 좋습니다.\n",
      "\n",
      "3. **효뜨**: 캐주얼 다이닝 분위기의 식당으로, 해산물 요리가 전체적으로 평가가 좋습니다. 회덮밥도 예외는 아닙니다.\n",
      "\n",
      "다만, 식당의 운영 시간이나 메뉴는 변동될 수 있으니 방문하시기 전 확인해 보시는 것이 좋습니다. 예약이나 대기가 필요할 수 있으니 참고하시기 바랍니다.\n"
     ]
    }
   ],
   "source": [
    "template_ex = PromptTemplate(\n",
    "    input_variables=[\"location\", \"adjective\", \"topic\"],                # 사용할 변수 이름들\n",
    "    template=\"{location}에서 {adjective} {topic}을 알려줘.\"  # 실제 프롬프트 문자열\n",
    ")\n",
    "\n",
    "\n",
    "prompt_ex = template_ex.format(location=\"서울숲\",\n",
    "                               adjective=\"가장 가성비 좋은\",\n",
    "                               topic=\"회덮밥\")\n",
    "\n",
    "response = llm.invoke(prompt_ex)\n",
    "print(response.content)"
   ]
  },
  {
   "cell_type": "code",
   "execution_count": 30,
   "metadata": {},
   "outputs": [
    {
     "name": "stdout",
     "output_type": "stream",
     "text": [
      "\n",
      "서울에서 간단한 점심메뉴을 알려줘.\n",
      "\n",
      "서울에서 간단한 점심 메뉴로는 다양한 선택지가 있습니다. 몇 가지 추천 드리자면:\n",
      "\n",
      "1. **김밥**: 다양한 재료가 들어간 김밥은 간편하게 먹기 좋고 종류도 많습니다.\n",
      "2. **비빔밥**: 채소와 고기가 고루 들어가 있어 영양가 있는 한 끼입니다.\n",
      "3. **라면**: 간단하면서도 빠르게 먹을 수 있는 메뉴로, 특별히 다양한 토핑을 추가해 즐길 수 있습니다.\n",
      "4. **만두**: 찐만두나 군만두 모두 간편하게 즐길 수 있는 메뉴입니다.\n",
      "5. **샌드위치**: 다양한 속재료를 넣어 간편하게 먹을 수 있는 메뉴입니다.\n",
      "6. **떡볶이**: 매콤달콤한 맛으로 인기가 많은 거리 음식입니다.\n",
      "7. **국수**: 잔치국수나 비빔국수 등 간편하게 즐길 수 있습니다.\n",
      "\n",
      "이외에도 서울에는 다양한 음식점이 많으니, 기호에 따라 여러 곳을 탐방해 보시는 것도 좋습니다.\n"
     ]
    }
   ],
   "source": [
    "str_ex = \"\"\"\n",
    "{location}에서 {adjective} {topic}을 알려줘.\n",
    "\"\"\"\n",
    "prompt_ex = PromptTemplate.from_template(str_ex)\n",
    "\n",
    "\n",
    "message_ex = prompt_ex.format(location=\"서울\",\n",
    "                              adjective=\"간단한\",\n",
    "                              topic=\"점심메뉴\")\n",
    "\n",
    "print(message_ex)\n",
    "\n",
    "response = llm.invoke(message_ex)\n",
    "print(response.content)"
   ]
  },
  {
   "cell_type": "markdown",
   "metadata": {},
   "source": [
    "### 탬플릿을 저장하고 불러오기\n",
    "\n",
    "* 탬플릿이나 프롬프트를 저장하고 불러올 수 있다.\n",
    "* Langchain.prompts 에서는 탬플릿을 저장하고 불러오는 기능을 제공한다."
   ]
  },
  {
   "cell_type": "code",
   "execution_count": 31,
   "metadata": {},
   "outputs": [],
   "source": [
    "prompt_ex.save(\"prompt_ex.json\")"
   ]
  },
  {
   "cell_type": "code",
   "execution_count": 16,
   "metadata": {},
   "outputs": [
    {
     "name": "stdout",
     "output_type": "stream",
     "text": [
      "input_variables=['adjective', 'location', 'topic'] input_types={} partial_variables={} template='\\n{location}에서 {adjective} {topic}을 알려줘.\\n'\n",
      "\n",
      "에서 가장 가성비 좋은 회덮밥을 알려줘.\n",
      "\n"
     ]
    }
   ],
   "source": [
    "from langchain.prompts import load_prompt\n",
    "\n",
    "prompt = load_prompt(\"prompt_ex.json\")\n",
    "print(prompt)\n",
    "\n",
    "message = prompt.format(location=\"\",\n",
    "                        adjective=\"가장 가성비 좋은\",\n",
    "                        topic=\"회덮밥\")\n",
    "\n",
    "print(message)\n",
    "\n",
    "response = llm.invoke(message)"
   ]
  },
  {
   "cell_type": "markdown",
   "metadata": {},
   "source": [
    "* {프로야구} 팀 {5}개를 보여줘."
   ]
  },
  {
   "cell_type": "code",
   "execution_count": null,
   "metadata": {},
   "outputs": [
    {
     "name": "stdout",
     "output_type": "stream",
     "text": [
      "한국 프로야구(KBO 리그)에는 10개의 팀이 있습니다. 다음은 그 팀들의 목록입니다:\n",
      "\n",
      "1. 두산 베어스\n",
      "2. 롯데 자이언츠\n",
      "3. 삼성 라이온즈\n",
      "4. LG 트윈스\n",
      "5. 키움 히어로즈\n",
      "6. KIA 타이거즈\n",
      "7. SSG 랜더스\n",
      "8. NC 다이노스\n",
      "9. 한화 이글스\n",
      "10. KT 위즈\n",
      "\n",
      "이 팀들은 KBO 리그에서 활약하며, 각 팀은 고유의 팬층과 역사적인 배경을 가지고 있습니다.\n"
     ]
    }
   ],
   "source": [
    "temp_str = \"\"\"\n",
    "{topic} 팀 {number}개를 보여줘.\n",
    "\"\"\"\n",
    "\n",
    "prompt = PromptTemplate.from_template(temp_str)\n",
    "message = prompt.format(topic=\"프로야구\", number=10)\n",
    "\n",
    "print(llm.invoke(message).content)"
   ]
  },
  {
   "cell_type": "code",
   "execution_count": null,
   "metadata": {},
   "outputs": [
    {
     "name": "stdout",
     "output_type": "stream",
     "text": [
      "물론입니다. 다음은 유럽의 유명한 축구 클럽 10개입니다.\n",
      "\n",
      "1. FC 바르셀로나 (스페인)\n",
      "2. 레알 마드리드 (스페인)\n",
      "3. 바이에른 뮌헨 (독일)\n",
      "4. 맨체스터 유나이티드 (잉글랜드)\n",
      "5. 리버풀 FC (잉글랜드)\n",
      "6. 유벤투스 FC (이탈리아)\n",
      "7. 파리 생제르맹 (프랑스)\n",
      "8. 첼시 FC (잉글랜드)\n",
      "9. 아스널 FC (잉글랜드)\n",
      "10. AC 밀란 (이탈리아)\n",
      "\n",
      "이 팀들은 유럽 무대에서 많은 성공을 거둔 바 있습니다.\n"
     ]
    }
   ],
   "source": [
    "message = prompt.format(topic=\"유럽축구\", number=10)\n",
    "\n",
    "print(llm.predict(message))"
   ]
  },
  {
   "cell_type": "markdown",
   "metadata": {},
   "source": [
    "### Chat Prompt Template"
   ]
  },
  {
   "cell_type": "code",
   "execution_count": 17,
   "metadata": {},
   "outputs": [
    {
     "name": "stdout",
     "output_type": "stream",
     "text": [
      "[SystemMessage(content='당신은 베테랑 여행 가이드로, 고객 최적의 맞춤 여행 일정 수립을 도와줍니다.', additional_kwargs={}, response_metadata={}), HumanMessage(content='여름에 제주도로 혼자여행을 계획하고 있습니다.', additional_kwargs={}, response_metadata={}), AIMessage(content='제가 바로 제주도 전문 여행 가이드입니다. 어떤 도움이 필요하신가요?', additional_kwargs={}, response_metadata={}), HumanMessage(content='해당 지역의 여행지 5군데를 추천해 주세요', additional_kwargs={}, response_metadata={})]\n",
      "제주도는 아름다운 자연경관과 다양한 문화유산으로 가득한 곳입니다. 여름에 제주도를 혼자 여행하신다면, 다음 다섯 가지 장소를 추천드립니다.\n",
      "\n",
      "1. **성산 일출봉**  \n",
      "   유네스코 세계자연유산으로 지정된 성산 일출봉은 일출을 보기 가장 좋은 명소 중 하나입니다. 봉우리에 올라가면 탁 트인 바다와 농지의 아름다운 풍경을 감상할 수 있습니다.\n",
      "\n",
      "2. **우도**  \n",
      "   성산항에서 배를 타고 15분 정도면 도착하는 우도는 작은 섬이지만 다양한 매력으로 가득합니다. 자전거를 대여해 섬을 돌아보시면 깨끗한 해변과 다양한 자연경관을 즐길 수 있습니다.\n",
      "\n",
      "3. **한라산 국립공원**  \n",
      "   한라산은 제주도의 중심에 위치한 산으로, 다양한 등산로가 있어 자신의 체력에 맞는 코스를 선택할 수 있습니다. 정상에서 바라보는 전망은 잊을 수 없는 경험이 될 것입니다. 여름이라도 날씨에 따라 등산 준비를 철저히 하세요.\n",
      "\n",
      "4. **제주 올레길**  \n",
      "   제주 올레길은 총 26개의 걷기 코스로 이루어져 있으며, 각 코스마다 독특한 풍경과 분위기를 자랑합니다. 혼자만의 시간을 보내며 천천히 걸으며 제주도의 자연을 느껴보세요. 코스 7번(외돌개에서 월평 올레) 혹은 10번(하모에서 화순 올레)을 추천합니다.\n",
      "\n",
      "5. **협재 해수욕장**  \n",
      "   협재 해수욕장은 맑고 깨끗한 바다로 유명하며 얕은 수심 덕분에 편안하게 물놀이를 즐길 수 있습니다. 모래사장을 걷거나 근처 카페에서 휴식을 취하면서 여름의 제주를 만끽해 보세요.\n",
      "\n",
      "이외에도 제주도에는 많은 매력적인 장소들이 있습니다. 방문 전 여행지와 날씨에 대한 정보를 확인하셔서 더욱 알찬 여행이 되길 바랍니다. 즐거운 제주도 여행 되세요!\n"
     ]
    }
   ],
   "source": [
    "from langchain.prompts import ChatPromptTemplate\n",
    "\n",
    "chat_template = ChatPromptTemplate.from_messages([\n",
    "    (\"system\", \"당신은 베테랑 여행 가이드로, 고객 최적의 맞춤 여행 일정 수립을 도와줍니다.\"),\n",
    "    (\"human\", \"{when}에 {place}로 {travel}을 계획하고 있습니다.\"),\n",
    "    (\"ai\", \"제가 바로 {place} 전문 여행 가이드입니다. 어떤 도움이 필요하신가요?\"),\n",
    "    (\"human\", \"{question}\")\n",
    "])\n",
    "\n",
    "prompt = chat_template.format_messages(when=\"여름\", \n",
    "                                    place=\"제주도\", \n",
    "                                    travel=\"혼자여행\", \n",
    "                                    question=\"해당 지역의 여행지 5군데를 추천해 주세요\")   \n",
    "print(prompt)\n",
    "response = llm.invoke(prompt)\n",
    "print(response.content)"
   ]
  },
  {
   "cell_type": "code",
   "execution_count": 18,
   "metadata": {},
   "outputs": [
    {
     "name": "stdout",
     "output_type": "stream",
     "text": [
      "당신은 동남아 베테랑 여행 가이드입니다.고객 최적의 동남아 가족여행 일정 수립을 도와줍니다.\n"
     ]
    }
   ],
   "source": [
    "from langchain.prompts import PromptTemplate\n",
    "\n",
    "#각각 독립적인 2 개의 프롬프트 템플릿을 정의하고, 이를 결합하여 최종 프롬프트를 생성하는 방법\n",
    "prompt_1 = PromptTemplate.from_template(\"당신은 {place} 베테랑 여행 가이드입니다.\")\n",
    "prompt_2 = PromptTemplate.from_template(\"고객 최적의 {place} {travel} 일정 수립을 도와줍니다.\")\n",
    "\n",
    "final_prompt = prompt_1 + prompt_2\n",
    "\n",
    "prompt = final_prompt.format(place=\"동남아\", travel=\"가족여행\")\n",
    "print(prompt)"
   ]
  },
  {
   "cell_type": "code",
   "execution_count": null,
   "metadata": {},
   "outputs": [],
   "source": [
    "PipelinePromptTemplate(\n",
    "    final_prompt=PromptTemplate(...),       # 최종 틀 (메인 구조)\n",
    "    pipeline_prompts=[                      # 삽입될 하위 프롬프트 리스트\n",
    "        (\"prompt_1\", PromptTemplate(...)),\n",
    "        (\"prompt_2\", PromptTemplate(...))\n",
    "    ]\n",
    ")"
   ]
  },
  {
   "cell_type": "code",
   "execution_count": 19,
   "metadata": {},
   "outputs": [
    {
     "name": "stderr",
     "output_type": "stream",
     "text": [
      "C:\\Users\\JS\\AppData\\Local\\Temp\\ipykernel_35148\\2089988197.py:21: LangChainDeprecationWarning: This class is deprecated. Please see the docstring below or at the link for a replacement option: https://python.langchain.com/api_reference/core/prompts/langchain_core.prompts.pipeline.PipelinePromptTemplate.html\n",
      "  pipeline_template = PipelinePromptTemplate(final_prompt=final_prompt, #최종프롬프트\n"
     ]
    },
    {
     "name": "stdout",
     "output_type": "stream",
     "text": [
      "한국에는 많은 무서운 이야기가 전해 내려오고 있지만, 그중에서도 특히 사람들을 오싹하게 만드는 전설이 하나 있다. 바로 '처녀귀신' 이야기다. \n",
      "\n",
      "깊은 산속, 어두운 밤길을 지나는 사람들 사이에는 수없이 많은 처녀귀신 이야기가 돌고 있다. 이 귀신은 주로 하얀 한복을 입고 긴 머리를 늘어뜨린 모습으로 나타난다고 한다. 그녀의 얼굴은 핏기가 없이 창백하고, 눈동자는 끝이 보이지 않을 정도로 깊고 검다. 그녀는 살아생전 결혼하지 못한 채 억울한 죽음을 맞이한 처녀의 영혼으로, 아직 저승으로 가지 못하고 이승을 떠도는 존재다.\n",
      "\n",
      "이 귀신이 자주 출몰한다고 알려진 숲이 있는데, 그곳에서는 밤마다 이상한 울음소리가 들려온다고 한다. 그 소리를 듣고 호기심에 이끌려 소리를 따라가면, 끝내는 끔찍한 광경을 목격하게 될 것이다. 소리의 주인공인 처녀귀신은 혼자인 사람을 유혹하여 더욱 깊은 숲속으로 끌어들이고, 이내 그들의 삶을 앗아간다고 한다.\n",
      "\n",
      "또한, 그녀를 마주친 사람들은 자신도 모르게 비명을 지르며 그 자리에서 얼어붙곤 한다. 그녀의 손이 닿는 순간, 온몸이 서늘하게 얼어붙고 점차 숨을 쉬기 어려워지다가 결국 생명의 끈이 끊어지는 것이다. 더욱 무서운 것은, 이 모든 일이 아무 흔적도 남기지 않고 벌어진다는 사실이다.\n",
      "\n",
      "이 이야기는 단순한 옛날이야기라고 치부할 수도 있지만, 그 숲을 지나는 많은 사람들은 수년이 지난 후에도 여전히 그 울음소리를 들었다고 주장한다. 그리고 그들 중 몇몇은 돌아오지 않았다. 그러니 만약 당신이 깊은 숲속을 지나야 할 일이 생긴다면, 절대 혼자가 아닐 때를 기다리는 것이 좋을 것이다. 그녀는 당신도 모르게 당신의 뒤를 따라올지 모르기 때문이다.\n"
     ]
    }
   ],
   "source": [
    "from langchain.prompts.pipeline import PipelinePromptTemplate\n",
    "\n",
    "# 최종 탬플릿 형태 지정\n",
    "final_template = \"\"\"{prompt_1}\n",
    "\n",
    "{prompt_2}\n",
    "{prompt_3}\n",
    "\"\"\"\n",
    "final_prompt = PromptTemplate.from_template(final_template)\n",
    "\n",
    "# pipeline_prompts 에 삽입할 프롬프트 템플릿 지정\n",
    "prompt_1 = PromptTemplate.from_template(\"오늘은 {topic1} 에 대해 알려줘.\")\n",
    "prompt_2 = PromptTemplate.from_template(\"{topic1} 중에서 {topic2}에 대해서 더 집중적으로 알려줘{num}개만 알려줘\")\n",
    "prompt_3 = PromptTemplate.from_template(\"제약 조건 : {constraints}\")\n",
    "pipeline_prompts = [\n",
    "    (\"prompt_1\", prompt_1),\n",
    "    (\"prompt_2\", prompt_2),\n",
    "    (\"prompt_3\", prompt_3)\n",
    "]\n",
    "\n",
    "pipeline_template = PipelinePromptTemplate(final_prompt=final_prompt, #최종프롬프트 \n",
    "                                        pipeline_prompts=pipeline_prompts)\n",
    "\n",
    "prompt = pipeline_template.format(topic1=\"무서운 이야기\", topic2=\"한국 이야기\", num=1, constraints=\"최대한 무섭게\")\n",
    "\n",
    "response = llm.invoke(prompt)\n",
    "print(response.content)"
   ]
  },
  {
   "cell_type": "markdown",
   "metadata": {},
   "source": [
    "### 프롬프트의 일부분을 수정하는 법"
   ]
  },
  {
   "cell_type": "code",
   "execution_count": 27,
   "metadata": {},
   "outputs": [
    {
     "name": "stdout",
     "output_type": "stream",
     "text": [
      "한국에서 유명한 무서운 이야기을 알려주세요.\n",
      "한국에서 유명한 무서운 이야기 중 하나는 \"분신사바\"입니다. 분신사바는 일종의 초자연적인 의식을 통해 귀신을 소환하는 놀이로, 주로 청소년들 사이에서 유행했습니다. 이 의식은 원래 일본에서 유래된 것으로 알려져 있지만, 한국에서 널리 퍼지며 많은 이야기가 생겨났습니다.\n",
      "\n",
      "의식을 진행하는 방법은 여러 가지가 있지만, 일반적으로는 두 명 이상의 사람이 모여 특정 주문을 외우고, 연필을 사용해서 귀신과의 교감을 시도합니다. 많은 도시전설에서는 이 과정에서 실제로 귀신이 소환되거나, 참여자들이 의문의 사고를 겪는 등의 불길한 결과가 발생한다는 이야기가 전해집니다.\n",
      "\n",
      "이 외에도 한국에는 \"장산범\"이나 \"처녀귀신\" 같은 다양한 무서운 이야기와 도시전설이 존재합니다. 이러한 이야기는 주로 구전으로 전해 내려오며, 사람들 사이에 공포와 긴장을 불러일으킵니다.\n"
     ]
    }
   ],
   "source": [
    "prompt = PromptTemplate(template=\"{city}에서 유명한 {place}을 알려주세요.\", input_variables=[\"place\"], partial_variables={\"city\": \"한국\"})\n",
    "prompt_message = prompt.format(place=\"무서운 이야기\")\n",
    "print(prompt_message)\n",
    "\n",
    "print(llm.invoke(prompt_message).content)"
   ]
  },
  {
   "cell_type": "code",
   "execution_count": 30,
   "metadata": {},
   "outputs": [
    {
     "name": "stdout",
     "output_type": "stream",
     "text": [
      "content='일본에는 여러 유명한 공포 이야기가 있습니다. 그 중 몇 가지를 소개하자면:\\n\\n1. **쿠치사케온나 (입 찢어진 여자)**: 이 이야기는 입이 귀까지 찢어진 여자가 자신의 외모를 가린 채 사람들에게 \"나 예뻐?\"라고 질문한다는 이야기입니다. 대답에 따라 다른 반응을 하며, 계속해서 피해자를 괴롭히는 것으로 유명합니다.\\n\\n2. **테케테케**: 철로를 걷다 불의의 사고로 반신이 절단된 여성의 영혼이 분노에 차서 허리를 절단한 채로 기어다니며 사람들을 쫓아다닌다는 이야기입니다. 쫓아오다가 붙잡히면 반으로 자른다고 합니다.\\n\\n3. **히메지 성의 오쿠이키의 이야기**: 이 이야기는 충성심 있는 하녀 오쿠이키가 억울하게 누명을 쓰고 죽임을 당한 후, 그녀의 유령이 밤마다 성 주위에서 울부짖는다는 전설입니다.\\n\\n4. **노페라보**: 얼굴이 완전히 매끈한, 이목구비가 없는 괴생명체에 대한 이야기입니다. 보통 사람들이 많은 한적한 곳에서 등장해 사람들을 깜짝 놀라게 합니다.\\n\\n이 외에도 일본의 민속과 현대 문화에는 다양한 공포 이야기가 있어, 다양한 미디어에서 자주 다루어집니다. 이러한 이야기는 지역마다 조금씩 다르게 전해지기도 하고, 다양한 형태로 각색되며 일본의 공포 문화에 큰 영향을 미치고 있습니다.' additional_kwargs={'refusal': None} response_metadata={'token_usage': {'completion_tokens': 361, 'prompt_tokens': 21, 'total_tokens': 382, 'completion_tokens_details': {'accepted_prediction_tokens': 0, 'audio_tokens': 0, 'reasoning_tokens': 0, 'rejected_prediction_tokens': 0}, 'prompt_tokens_details': {'audio_tokens': 0, 'cached_tokens': 0}}, 'model_name': 'gpt-4o-2024-08-06', 'system_fingerprint': 'fp_07871e2ad8', 'id': 'chatcmpl-BivrmwPj6zwFu5ETVsVC74atnA13O', 'service_tier': 'default', 'finish_reason': 'stop', 'logprobs': None} id='run--be28ddca-6813-4fdd-8d84-aba02d551628-0' usage_metadata={'input_tokens': 21, 'output_tokens': 361, 'total_tokens': 382, 'input_token_details': {'audio': 0, 'cache_read': 0}, 'output_token_details': {'audio': 0, 'reasoning': 0}}\n"
     ]
    }
   ],
   "source": [
    "\n",
    "partial_prompt = prompt.partial(city=\"일본\")\n",
    "prompt_message = partial_prompt.format(place=\"공포 스토리\")\n",
    "\n",
    "print(llm.invoke(prompt_message))"
   ]
  },
  {
   "cell_type": "markdown",
   "metadata": {},
   "source": [
    "## Output Parser\n",
    "\n",
    "* 결과가 어떻게 나오도록 할 것인지 정하는 것"
   ]
  },
  {
   "cell_type": "code",
   "execution_count": 53,
   "metadata": {},
   "outputs": [
    {
     "name": "stdout",
     "output_type": "stream",
     "text": [
      "Your response should be a list of comma separated values, eg: `foo, bar, baz` or `foo,bar,baz`\n",
      "폭우에 대한 더 완성된 초공포스럽고 충격적인 이야기 만들어줘. 인간의 공포심을 극한까지 자극하는 이야기를 만들어줘. 2S0대 들은 감당도 안될만큼 충격적이게 만들어줘. 초반부에 빌드업 하고 후반부에서 충격적인 반전을 만들어줘\n",
      "어느 조용한 마을에 폭우가 내리기 시작했다. 처음에는 아무도 큰일로 여기지 않았다. 평소와 다름없는 비라 생각하며 사람들은 우산을 챙기고 일상으로 나섰다. 그러나 시간이 지날수록 빗줄기는 굵어지고, 마을의 하늘은 먹구름에 점점 더 어두워졌다. 비는 멈출 기미를 보이지 않았다. 사람들은 서서히 불안해지기 시작했다.\n",
      "\n",
      "사흘 째 비가 내리면서 강이 넘치기 시작했다. 밤마다 들리는 물살 소리는 마을 사람들의 잠을 앗아갔다. 빗물은 집 앞까지 차올랐고, 사람들은 고지대로 피신했다. 그런데 이상한 일이 벌어졌다. 마치 물이 생명을 가진 것처럼 마을 사람들을 향해 다가오는 듯한 느낌이 들었다. 물은 자신의 길을 찾지 않고, 도리어 사람들을 좇아 움직이는 것 같았다.\n",
      "\n",
      "마을에는 전설이 있었다. 예전에 이 마을에는 신을 모시는 고대 사원이 있었고, 그곳에 모셔진 신은 마을을 위해 비를 다스린다고 했다. 그러나 어느 날 그 사원은 파괴되어 흔적도 없이 사라졌다. 이후 비가 내릴 때마다 마을에는 불운한 일들이 생기곤 했다. 사람들은 이 비가 그 신의 저주라고 믿기 시작했다.\n",
      "\n",
      "한편, 마을의 한 고고학자가 예전 사원터를 조사하고 있었다. 그는 오래된 기록을 통해 사원의 위치를 추론하고 지하에 숨겨진 비밀 방을 발견했다. 그 방 안엔 옛 문서가 보관되어 있었고, 그 중 하나에는 무시무시한 예언이 담겨 있었다. \"물이 나의 목소리다. 내가 그대들의 피를 원한다.\"\n",
      "\n",
      "이 경고를 사람들 앞에서 처음으로 읽어낸 순간, 고고학자는 충격에 휩싸였다. 마을의 원로들은 그의 이야기를 믿지 않았으나, 이내 이상한 사건들이 벌어지기 시작했다. 질병이 퍼지기 시작했고, 비는 사람들의 목숨을 하나씩 앗아갔다. 살아서 돌아오지 못한 이들은 밤마다 귀에 들려오는 물 소리를 들었다고 말했다.\n",
      "\n",
      "그러던 중 비가 멎은 듯 보이던 어느 날, 여러 사람들이 순차적으로 실종되기 시작했다. 고고학자는 비밀 방을 다시 찾아갔고, 그곳에서 마을의 오랜 비밀이자 참담한 진실을 알게 되었다. 사실 이 마을 사람들은 오래 전 그 신에게 제물을 바치며 물의 축복을 받았으나, 이후 제물을 멈춰서 물의 신을 노하게 했던 것이다.\n",
      "\n",
      "고고학자는 마을 사람들을 모아야 한다고 결심했지만, 이미 늦어 보였다. 아득한 폭우 속에서 물의 형상이 나타나더니, 거대한 물의 형상을 한 신이 모습을 드러냈다. 그 순간, 모든 이들이 깨달았다. 물은 단순한 액체가 아니었다. 그것은 신의 화신이었고, 신은 자비란 없었다. 마을은 순식간에 물속으로 삼켜졌다. 그날 이후로 그 마을의 흔적은 어디에도 남아있지 않았고, 오직 신을 기리는 기도만이 멀리서 희미하게 들릴 뿐이었다.\n"
     ]
    }
   ],
   "source": [
    "from langchain.output_parsers import CommaSeparatedListOutputParser\n",
    "\n",
    "output_parser = CommaSeparatedListOutputParser()\n",
    "\n",
    "format1 = output_parser.get_format_instructions()\n",
    "print(format1)\n",
    "\n",
    "prompt = PromptTemplate(\n",
    "    input_variables=[\"topic\"],\n",
    "    template=\"{topic}에 대한 더 완성된 초공포스럽고 충격적인 이야기 만들어줘. 인간의 공포심을 극한까지 자극하는 이야기를 만들어줘. 2S0대 들은 감당도 안될만큼 충격적이게 만들어줘. 초반부에 빌드업 하고 후반부에서 충격적인 반전을 만들어줘\",\n",
    "    partial_variables={\"format_instructions\": format1}\n",
    ")\n",
    "\n",
    "print(prompt.format(topic=\"폭우\"))\n",
    "response = llm.invoke(prompt.format(topic=\"폭우\"))\n",
    "print(response.content)"
   ]
  },
  {
   "cell_type": "markdown",
   "metadata": {},
   "source": [
    "### 이메일 파싱 및 생성하기"
   ]
  },
  {
   "cell_type": "code",
   "execution_count": 42,
   "metadata": {},
   "outputs": [],
   "source": [
    "\n",
    "from pydantic import BaseModel, Field\n",
    "\n",
    "# 1. Pydantic 모델 정의\n",
    "class EmailParser(BaseModel):\n",
    "    sender_name: str= Field(description=\"보낸 사람의 이름\")\n",
    "    title: str= Field(description=\"이메일 제목\") \n",
    "    content: str= Field(description=\"이메일 내용\")  "
   ]
  },
  {
   "cell_type": "code",
   "execution_count": 52,
   "metadata": {},
   "outputs": [
    {
     "name": "stdout",
     "output_type": "stream",
     "text": [
      "\n",
      "    이메일을 읽고 요약해 주세요. \n",
      "    \n",
      "    Return a JSON object.\n",
      "    \n",
      "    이메일: \n",
      "보내는 사람: 김철수\n",
      "제목: 오늘의 회의록\n",
      "내용: 오늘 회의록을 보내드립니다. 내용은 첨부파일을 확인해 주세요.\n",
      "                                \n",
      "    \n"
     ]
    }
   ],
   "source": [
    "from langchain_core.output_parsers import JsonOutputParser\n",
    "\n",
    "\n",
    "# 2. OutputParser 생성\n",
    "parser = JsonOutputParser(pydantice_object = EmailParser)\n",
    "\n",
    "# 3. 포맷 지시문 자동 생성\n",
    "format_instructions = parser.get_format_instructions()\n",
    "\n",
    "prompt_template = PromptTemplate.from_template(\n",
    "    input_variable=[\"email\"],\n",
    "    template= \"\"\"\n",
    "    이메일을 읽고 요약해 주세요. \n",
    "    \n",
    "    {format_instructions}\n",
    "    \n",
    "    이메일: {email}\n",
    "    \"\"\",\n",
    "    partial_variables={\"format_instructions\": format_instructions}\n",
    ")\n",
    "\n",
    "prompt = prompt_template.format(email=\"\"\"\n",
    "보내는 사람: 김철수\n",
    "제목: 오늘의 회의록\n",
    "내용: 오늘 회의록을 보내드립니다. 내용은 첨부파일을 확인해 주세요.\n",
    "                                \"\"\")\n",
    "\n",
    "print(prompt)\n"
   ]
  },
  {
   "cell_type": "code",
   "execution_count": null,
   "metadata": {},
   "outputs": [],
   "source": [
    "from langchain_core.output_parsers import PydanticOutputParser\n",
    "from langchain_core.prompts import PromptTemplate\n",
    "# 4. 프롬프트 템플릿 정의\n",
    "\n",
    "\n",
    "# 5. 실제 프롬프트 구성\n",
    "email_text = \"\"\"보내는 사람: 김철수\n",
    "제목: 오늘의 회의록\n",
    "내용: 오늘 회의록을 보내드립니다. 내용은 첨부파일을 확인해 주세요.\"\"\"\n",
    "\n",
    "prompt = prompt_template.format(\n",
    "    format_instructions=format_instructions,\n",
    "    email=email_text\n",
    ")\n",
    "\n",
    "# 6. LLM 실행\n",
    "raw_response = llm.invoke(prompt)\n",
    "\n",
    "# 7. 파싱 처리\n",
    "parsed = parser.invoke(raw_response.content)\n",
    "\n",
    "# 8. 결과 출력\n",
    "print(parsed)\n",
    "print(parsed.sender_name)  # 보낸 사람\n",
    "print(parsed.title)        # 메일 제목\n",
    "print(parsed.content)      # 회의 내용"
   ]
  },
  {
   "cell_type": "markdown",
   "metadata": {},
   "source": [
    "### Langchain Exprssion Language (LCEL)"
   ]
  },
  {
   "cell_type": "code",
   "execution_count": 61,
   "metadata": {},
   "outputs": [
    {
     "name": "stdout",
     "output_type": "stream",
     "text": [
      "{'input': '사과 몇 개 남았니?', 'history': 'Human: 철수가 사과를 10개 사왔어\\nAI: 철수가 사과 10개를 사왔군요! 사과는 다양한 종류와 맛이 있어서 여러 가지로 즐길 수 있죠. 예를 들어, 당도가 높은 후지나 갈라 같은 종류는 그대로 먹기 좋고, 약간 신맛이 나는 그랜니스미스는 파이나 샐러드에 잘 어울려요. 사과로 애플파이나 사과잼을 만들어볼 수도 있고, 얇게 썰어서 말린 후 스낵으로 즐길 수도 있습니다. 철수는 이 사과들을 어떻게 활용할 계획인가요?\\nHuman: 영희가 사과를 2개 먹었어\\nAI: 영희가 사과를 2개 먹었군요! 이제 철수에게 남은 사과는 8개가 되겠네요. 사과는 건강에 좋고 다양한 영양소를 제공해주니 감기로부터 몸을 보호하는 데 도움을 줄 수도 있고, 나머지 사과들도 여러 가지 방법으로 활용할 수 있답니다. 혹시 특별히 남은 사과를 사용할 계획이 있으신가요? 아니면 추천해드릴까요?', 'response': '현재 철수가 가지고 있는 사과는 영희가 2개를 먹었기 때문에 8개 남아 있습니다. 남은 사과들로 무엇을 해볼 계획인가요? 아니면 다른 궁금한 점이 있으신가요?'}\n"
     ]
    }
   ],
   "source": [
    "from langchain.prompts import PromptTemplate\n",
    "from langchain.chains import ConversationChain\n",
    "\n",
    "# chain이 deprecated 되었지만 굉장히 파워풀한 기능임\n",
    "prompt = PromptTemplate.from_template('{city}에서 가장 유명한 랜드마크는 무엇인가요?')\n",
    "chain = ConversationChain(llm=llm)\n",
    "chain.invoke(\"철수가 사과를 10개 사왔어\")\n",
    "chain.invoke(\"영희가 사과를 2개 먹었어\")\n",
    "response = chain.invoke(\"사과 몇 개 남았니?\")\n",
    "\n",
    "print(response)"
   ]
  },
  {
   "cell_type": "code",
   "execution_count": 65,
   "metadata": {},
   "outputs": [
    {
     "name": "stdout",
     "output_type": "stream",
     "text": [
      "Human: 철수가 사과를 10개 사왔어\n",
      "AI: 철수가 사과 10개를 사왔군요! 사과는 다양한 종류와 맛이 있어서 여러 가지로 즐길 수 있죠. 예를 들어, 당도가 높은 후지나 갈라 같은 종류는 그대로 먹기 좋고, 약간 신맛이 나는 그랜니스미스는 파이나 샐러드에 잘 어울려요. 사과로 애플파이나 사과잼을 만들어볼 수도 있고, 얇게 썰어서 말린 후 스낵으로 즐길 수도 있습니다. 철수는 이 사과들을 어떻게 활용할 계획인가요?\n",
      "Human: 영희가 사과를 2개 먹었어\n",
      "AI: 영희가 사과를 2개 먹었군요! 이제 철수에게 남은 사과는 8개가 되겠네요. 사과는 건강에 좋고 다양한 영양소를 제공해주니 감기로부터 몸을 보호하는 데 도움을 줄 수도 있고, 나머지 사과들도 여러 가지 방법으로 활용할 수 있답니다. 혹시 특별히 남은 사과를 사용할 계획이 있으신가요? 아니면 추천해드릴까요?\n"
     ]
    }
   ],
   "source": [
    "print(response['history'])\n",
    "# 마지막 응답을 주지는 않는다."
   ]
  },
  {
   "cell_type": "code",
   "execution_count": 64,
   "metadata": {},
   "outputs": [
    {
     "name": "stdout",
     "output_type": "stream",
     "text": [
      "현재 철수가 가지고 있는 사과는 영희가 2개를 먹었기 때문에 8개 남아 있습니다. 남은 사과들로 무엇을 해볼 계획인가요? 아니면 다른 궁금한 점이 있으신가요?\n"
     ]
    }
   ],
   "source": [
    "print(response['response'])\n",
    "# 마지막 응답만 나온다."
   ]
  },
  {
   "cell_type": "markdown",
   "metadata": {},
   "source": [
    "### Langchain LLMChain 활용하기"
   ]
  },
  {
   "cell_type": "code",
   "execution_count": 84,
   "metadata": {},
   "outputs": [
    {
     "name": "stdout",
     "output_type": "stream",
     "text": [
      "파리에서 가장 유명한 랜드마크는 에펠탑입니다. 에펠탑은 1889년 세계 박람회를 위해 건설되었으며, 오늘날에는 프랑스와 파리의 상징적인 구조물로 자리잡고 있습니다. 이 외에도 루브르 박물관, 노트르담 대성당, 개선문, 몽마르트르 언덕의 사크레쾨르 대성당 등도 매우 유명한 파리의 랜드마크입니다.\n"
     ]
    }
   ],
   "source": [
    "from langchain.prompts import PromptTemplate\n",
    "from langchain.chains import LLMChain\n",
    "from langchain_core.output_parsers import StrOutputParser\n",
    "\n",
    "parser = StrOutputParser()\n",
    "prompt = PromptTemplate.from_template('{city}에서 가장 유명한 랜드마크는 무엇인가요?')\n",
    "# chain = LLMChain(llm=llm, prompt=prompt)\n",
    "chain = prompt | llm | parser\n",
    "response = chain.invoke({'city':'파리'})\n",
    "print(response)"
   ]
  },
  {
   "cell_type": "code",
   "execution_count": 88,
   "metadata": {},
   "outputs": [
    {
     "name": "stdout",
     "output_type": "stream",
     "text": [
      "물론 가능합니다! 다음은 공포 스토리의 더미 데이터로, 다양한 요소를 포함하고 있습니다:\n",
      "\n",
      "---\n",
      "\n",
      "**제목**: 속삭이는 그림자\n",
      "\n",
      "**소개**: \n",
      "안개 낀 산과 고대 숲 사이에 자리 잡은 작은 잊혀진 마을 엘더빌에는 세대를 거쳐 내려오는 오싹한 전설이 있습니다.\n",
      "\n",
      "**등장인물**:\n",
      "- **사라 할로웨이**: 가족과 함께 엘더빌로 최근 이사한 호기심 많고 용감한 17세 소녀.\n",
      "- **에단 카터**: 마을 주민이자 사라의 새 친구로, 마을의 역사에 깊은 관심을 가지고 있다.\n",
      "- **그림스비 씨**: 마을의 비밀에 대해 알고 있는 미스터리한 노인 도서관장.\n",
      "\n",
      "**배경**:\n",
      "- **버려진 대저택**: 마을 끝에 있는 낡은 집으로, 과거의 비밀을 속삭이는 그림자가 출몰한다는 소문이 있다.\n",
      "- **엘더빌 도서관**: 고대의 문서와 마을 창립자의 일기가 보관되어 있으며, 대저택의 역사에 대한 단서를 제공한다.\n",
      "- **그림자 숲**: 대저택을 둘러싸고 있으며, 으스스한 소리와 이상한 현상으로 가득 차 있다.\n",
      "\n",
      "**줄거리 요약**:\n",
      "사라와 에단은 버려진 대저택을 괴롭히는 속삭임의 진실을 밝히기 위한 여정을 시작합니다. 그들은 오래된 편지와 일기를 발견하면서 배신과 상실의 비극적인 이야기를 알아냅니다. 새로운 정보가 나올 때마다 대저택의 그림자는 점점 더 불안해집니다.\n",
      "\n",
      "폭풍우가 치던 어느 날 밤, 설명할 수 없는 힘에 이끌려 사라는 혼자 대저택으로 돌아갑니다. 그곳에서 그녀는 저주에 사로잡혀 비밀을 속삭이도록 강요받는 유령들을 마주하게 됩니다. 영혼들이 엘더빌의 과거에 숨겨진 어두운 비밀을 밝힐 때, 사라는 저주가 그녀와 마을을 삼키기 전에 풀 방법을 찾아야 합니다.\n",
      "\n",
      "**결론**:\n",
      "용기와 결단력으로 사라는 저주의 근원을 맞닥뜨려 영혼들을 자유롭게 하고 엘더빌에 평화를 되찾아 줍니다. 그림자는 마침내 침묵하지만, 사라에게 전하는 마지막 오싹한 메시지를 남깁니다—아직 다가올 무언가에 대한 경고입니다.\n",
      "\n",
      "---\n",
      "\n",
      "이 데이터는 완전히 창작된 것임을 유의하시기 바랍니다. 원하는 대로 수정하거나 추가적인 요소를 더할 수 있습니다.\n"
     ]
    }
   ],
   "source": [
    "prompt = \"영어로된 더미 텍스트 데이터 만들어줘\"\n",
    "\n",
    "\n",
    "dummy_prompt = PromptTemplate.from_template('{topic}에 대한 영어로된 더미 데이터 만들어줘.')\n",
    "\n",
    "parser = StrOutputParser()\n",
    "\n",
    "translation = PromptTemplate.from_template(\"\"\"\n",
    "{text}\n",
    "\n",
    "위 텍스트를 한글로 번역해줘.\n",
    "\"\"\")\n",
    "\n",
    "chain= dummy_prompt | llm | parser | translation | llm | parser\n",
    "\n",
    "response = chain.invoke({'topic':'공포스토리'})\n",
    "\n",
    "print(response)\n"
   ]
  },
  {
   "cell_type": "markdown",
   "metadata": {},
   "source": [
    "### Runnable lamda"
   ]
  },
  {
   "cell_type": "code",
   "execution_count": 92,
   "metadata": {},
   "outputs": [
    {
     "name": "stdout",
     "output_type": "stream",
     "text": [
      "20\n"
     ]
    }
   ],
   "source": [
    "from langchain_core.runnables import RunnableLambda\n",
    "\n",
    "def twice(x):\n",
    "    return (x, x)\n",
    "  \n",
    "def add(args):\n",
    "    x, y = args\n",
    "    return x + y\n",
    "\n",
    "chain = RunnableLambda(twice) | RunnableLambda(add)\n",
    "response = chain.invoke(10)\n",
    "print(response)"
   ]
  },
  {
   "cell_type": "code",
   "execution_count": 119,
   "metadata": {},
   "outputs": [
    {
     "name": "stdout",
     "output_type": "stream",
     "text": [
      "2025년 06월 16일 {'오늘 저녁 뭐 먹을까?'}\n",
      "오늘은 2025년 6월 16일입니다. \n",
      "\n",
      "오늘 저녁으로는 계절에 맞게 신선한 샐러드와 함께 구운 치킨이나 연어를 어떠세요? 혹은 간단하게 파스타나 비빔밥도 좋은 선택이 될 수 있습니다. 기분과 입맛에 맞게 골라보세요!\n"
     ]
    }
   ],
   "source": [
    "# 오늘 표기법\n",
    "import datetime\n",
    "\n",
    "def get_today(x):\n",
    "    return (datetime.datetime.today().strftime(\"%Y년 %m월 %d일\"), x)\n",
    "\n",
    "def make_prompt(args):\n",
    "    today, prompt = args\n",
    "    print(today, prompt)\n",
    "    message = f\"\"\"\n",
    "      오늘의 날짜는 {today}야.\n",
    "\n",
    "      오늘의 날짜를 말하고 {prompt} 에 대한 답변을 해줘.  \n",
    "      \"\"\"\n",
    "    return message\n",
    "\n",
    "chain = RunnableLambda(get_today) | RunnableLambda(make_prompt) | llm | StrOutputParser()\n",
    "\n",
    "response = chain.invoke({'오늘 저녁 뭐 먹을까?'})\n",
    "print(response)"
   ]
  }
 ],
 "metadata": {
  "kernelspec": {
   "display_name": "ai",
   "language": "python",
   "name": "python3"
  },
  "language_info": {
   "codemirror_mode": {
    "name": "ipython",
    "version": 3
   },
   "file_extension": ".py",
   "mimetype": "text/x-python",
   "name": "python",
   "nbconvert_exporter": "python",
   "pygments_lexer": "ipython3",
   "version": "3.10.18"
  }
 },
 "nbformat": 4,
 "nbformat_minor": 2
}
